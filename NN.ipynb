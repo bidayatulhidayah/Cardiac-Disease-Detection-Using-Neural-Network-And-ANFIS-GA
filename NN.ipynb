{
 "cells": [
  {
   "cell_type": "code",
   "execution_count": 55,
   "metadata": {},
   "outputs": [],
   "source": [
    "import seaborn as sns\n",
    "import numpy as np\n",
    "import pandas as pd\n",
    "import matplotlib.pyplot as plt\n",
    "import plotly.express as px\n",
    "\n",
    "\n",
    "from sklearn.model_selection import train_test_split\n",
    "from sklearn.preprocessing import StandardScaler\n",
    "from sklearn.metrics import accuracy_score\n",
    "\n",
    "q = 17"
   ]
  },
  {
   "cell_type": "code",
   "execution_count": 56,
   "metadata": {},
   "outputs": [
    {
     "data": {
      "text/html": [
       "<div>\n",
       "<style scoped>\n",
       "    .dataframe tbody tr th:only-of-type {\n",
       "        vertical-align: middle;\n",
       "    }\n",
       "\n",
       "    .dataframe tbody tr th {\n",
       "        vertical-align: top;\n",
       "    }\n",
       "\n",
       "    .dataframe thead th {\n",
       "        text-align: right;\n",
       "    }\n",
       "</style>\n",
       "<table border=\"1\" class=\"dataframe\">\n",
       "  <thead>\n",
       "    <tr style=\"text-align: right;\">\n",
       "      <th></th>\n",
       "      <th>id</th>\n",
       "      <th>risk</th>\n",
       "      <th>age</th>\n",
       "      <th>cholesterol</th>\n",
       "      <th>heart_rate</th>\n",
       "      <th>diabetes</th>\n",
       "      <th>family_history</th>\n",
       "      <th>smoking</th>\n",
       "      <th>obesity</th>\n",
       "      <th>alcohol</th>\n",
       "      <th>exercise</th>\n",
       "      <th>previous_problems</th>\n",
       "      <th>medication</th>\n",
       "      <th>stress_level</th>\n",
       "      <th>sedentary</th>\n",
       "      <th>bmi</th>\n",
       "      <th>trigl</th>\n",
       "      <th>physical_activity</th>\n",
       "      <th>sleep_hour</th>\n",
       "    </tr>\n",
       "  </thead>\n",
       "  <tbody>\n",
       "    <tr>\n",
       "      <th>0</th>\n",
       "      <td>BMW7812</td>\n",
       "      <td>0.0</td>\n",
       "      <td>67.0</td>\n",
       "      <td>208.0</td>\n",
       "      <td>72.0</td>\n",
       "      <td>0.0</td>\n",
       "      <td>0.0</td>\n",
       "      <td>1.0</td>\n",
       "      <td>0.0</td>\n",
       "      <td>0.0</td>\n",
       "      <td>4.168</td>\n",
       "      <td>0.0</td>\n",
       "      <td>0.0</td>\n",
       "      <td>9.0</td>\n",
       "      <td>6.615001</td>\n",
       "      <td>31.251233</td>\n",
       "      <td>286.0</td>\n",
       "      <td>0.0</td>\n",
       "      <td>6.0</td>\n",
       "    </tr>\n",
       "    <tr>\n",
       "      <th>1</th>\n",
       "      <td>CZE1114</td>\n",
       "      <td>0.0</td>\n",
       "      <td>21.0</td>\n",
       "      <td>389.0</td>\n",
       "      <td>98.0</td>\n",
       "      <td>1.0</td>\n",
       "      <td>1.0</td>\n",
       "      <td>1.0</td>\n",
       "      <td>1.0</td>\n",
       "      <td>1.0</td>\n",
       "      <td>1.813</td>\n",
       "      <td>1.0</td>\n",
       "      <td>0.0</td>\n",
       "      <td>1.0</td>\n",
       "      <td>4.963459</td>\n",
       "      <td>27.194973</td>\n",
       "      <td>235.0</td>\n",
       "      <td>1.0</td>\n",
       "      <td>7.0</td>\n",
       "    </tr>\n",
       "    <tr>\n",
       "      <th>2</th>\n",
       "      <td>BNI9906</td>\n",
       "      <td>0.0</td>\n",
       "      <td>21.0</td>\n",
       "      <td>324.0</td>\n",
       "      <td>72.0</td>\n",
       "      <td>1.0</td>\n",
       "      <td>0.0</td>\n",
       "      <td>0.0</td>\n",
       "      <td>0.0</td>\n",
       "      <td>0.0</td>\n",
       "      <td>2.078</td>\n",
       "      <td>1.0</td>\n",
       "      <td>1.0</td>\n",
       "      <td>9.0</td>\n",
       "      <td>9.463426</td>\n",
       "      <td>28.176571</td>\n",
       "      <td>587.0</td>\n",
       "      <td>4.0</td>\n",
       "      <td>4.0</td>\n",
       "    </tr>\n",
       "    <tr>\n",
       "      <th>3</th>\n",
       "      <td>JLN3497</td>\n",
       "      <td>0.0</td>\n",
       "      <td>84.0</td>\n",
       "      <td>383.0</td>\n",
       "      <td>73.0</td>\n",
       "      <td>1.0</td>\n",
       "      <td>1.0</td>\n",
       "      <td>1.0</td>\n",
       "      <td>0.0</td>\n",
       "      <td>1.0</td>\n",
       "      <td>9.828</td>\n",
       "      <td>1.0</td>\n",
       "      <td>0.0</td>\n",
       "      <td>9.0</td>\n",
       "      <td>7.648981</td>\n",
       "      <td>36.464704</td>\n",
       "      <td>378.0</td>\n",
       "      <td>3.0</td>\n",
       "      <td>4.0</td>\n",
       "    </tr>\n",
       "    <tr>\n",
       "      <th>4</th>\n",
       "      <td>GFO8847</td>\n",
       "      <td>0.0</td>\n",
       "      <td>66.0</td>\n",
       "      <td>318.0</td>\n",
       "      <td>93.0</td>\n",
       "      <td>1.0</td>\n",
       "      <td>1.0</td>\n",
       "      <td>1.0</td>\n",
       "      <td>1.0</td>\n",
       "      <td>0.0</td>\n",
       "      <td>5.804</td>\n",
       "      <td>1.0</td>\n",
       "      <td>0.0</td>\n",
       "      <td>6.0</td>\n",
       "      <td>1.514821</td>\n",
       "      <td>21.809144</td>\n",
       "      <td>231.0</td>\n",
       "      <td>1.0</td>\n",
       "      <td>5.0</td>\n",
       "    </tr>\n",
       "  </tbody>\n",
       "</table>\n",
       "</div>"
      ],
      "text/plain": [
       "        id  risk   age  cholesterol  heart_rate  diabetes  family_history  \\\n",
       "0  BMW7812   0.0  67.0        208.0        72.0       0.0             0.0   \n",
       "1  CZE1114   0.0  21.0        389.0        98.0       1.0             1.0   \n",
       "2  BNI9906   0.0  21.0        324.0        72.0       1.0             0.0   \n",
       "3  JLN3497   0.0  84.0        383.0        73.0       1.0             1.0   \n",
       "4  GFO8847   0.0  66.0        318.0        93.0       1.0             1.0   \n",
       "\n",
       "   smoking  obesity  alcohol  exercise  previous_problems  medication  \\\n",
       "0      1.0      0.0      0.0     4.168                0.0         0.0   \n",
       "1      1.0      1.0      1.0     1.813                1.0         0.0   \n",
       "2      0.0      0.0      0.0     2.078                1.0         1.0   \n",
       "3      1.0      0.0      1.0     9.828                1.0         0.0   \n",
       "4      1.0      1.0      0.0     5.804                1.0         0.0   \n",
       "\n",
       "   stress_level  sedentary        bmi  trigl  physical_activity  sleep_hour  \n",
       "0           9.0   6.615001  31.251233  286.0                0.0         6.0  \n",
       "1           1.0   4.963459  27.194973  235.0                1.0         7.0  \n",
       "2           9.0   9.463426  28.176571  587.0                4.0         4.0  \n",
       "3           9.0   7.648981  36.464704  378.0                3.0         4.0  \n",
       "4           6.0   1.514821  21.809144  231.0                1.0         5.0  "
      ]
     },
     "execution_count": 56,
     "metadata": {},
     "output_type": "execute_result"
    }
   ],
   "source": [
    "#from google.colab import drive\n",
    "#drive.mount('/content/drive')\n",
    "\n",
    "df = pd.read_csv(\"dataset_500.csv\")\n",
    "df.head()\n",
    "\n"
   ]
  },
  {
   "cell_type": "code",
   "execution_count": 57,
   "metadata": {},
   "outputs": [
    {
     "data": {
      "text/html": [
       "<div>\n",
       "<style scoped>\n",
       "    .dataframe tbody tr th:only-of-type {\n",
       "        vertical-align: middle;\n",
       "    }\n",
       "\n",
       "    .dataframe tbody tr th {\n",
       "        vertical-align: top;\n",
       "    }\n",
       "\n",
       "    .dataframe thead th {\n",
       "        text-align: right;\n",
       "    }\n",
       "</style>\n",
       "<table border=\"1\" class=\"dataframe\">\n",
       "  <thead>\n",
       "    <tr style=\"text-align: right;\">\n",
       "      <th></th>\n",
       "      <th>count</th>\n",
       "      <th>mean</th>\n",
       "      <th>std</th>\n",
       "      <th>min</th>\n",
       "      <th>25%</th>\n",
       "      <th>50%</th>\n",
       "      <th>75%</th>\n",
       "      <th>max</th>\n",
       "    </tr>\n",
       "  </thead>\n",
       "  <tbody>\n",
       "    <tr>\n",
       "      <th>risk</th>\n",
       "      <td>1000.0</td>\n",
       "      <td>26.887000</td>\n",
       "      <td>30.657725</td>\n",
       "      <td>0.000000</td>\n",
       "      <td>0.000000</td>\n",
       "      <td>9.500000</td>\n",
       "      <td>53.00000</td>\n",
       "      <td>90.000</td>\n",
       "    </tr>\n",
       "    <tr>\n",
       "      <th>age</th>\n",
       "      <td>1000.0</td>\n",
       "      <td>157.269000</td>\n",
       "      <td>118.566583</td>\n",
       "      <td>18.000000</td>\n",
       "      <td>55.000000</td>\n",
       "      <td>105.000000</td>\n",
       "      <td>255.00000</td>\n",
       "      <td>400.000</td>\n",
       "    </tr>\n",
       "    <tr>\n",
       "      <th>cholesterol</th>\n",
       "      <td>1000.0</td>\n",
       "      <td>164.820000</td>\n",
       "      <td>107.019478</td>\n",
       "      <td>40.000000</td>\n",
       "      <td>76.000000</td>\n",
       "      <td>115.000000</td>\n",
       "      <td>250.00000</td>\n",
       "      <td>399.000</td>\n",
       "    </tr>\n",
       "    <tr>\n",
       "      <th>heart_rate</th>\n",
       "      <td>1000.0</td>\n",
       "      <td>38.166000</td>\n",
       "      <td>40.185387</td>\n",
       "      <td>0.000000</td>\n",
       "      <td>1.000000</td>\n",
       "      <td>20.500000</td>\n",
       "      <td>75.25000</td>\n",
       "      <td>110.000</td>\n",
       "    </tr>\n",
       "    <tr>\n",
       "      <th>diabetes</th>\n",
       "      <td>1000.0</td>\n",
       "      <td>0.585000</td>\n",
       "      <td>0.492969</td>\n",
       "      <td>0.000000</td>\n",
       "      <td>0.000000</td>\n",
       "      <td>1.000000</td>\n",
       "      <td>1.00000</td>\n",
       "      <td>1.000</td>\n",
       "    </tr>\n",
       "    <tr>\n",
       "      <th>family_history</th>\n",
       "      <td>1000.0</td>\n",
       "      <td>0.695000</td>\n",
       "      <td>0.460638</td>\n",
       "      <td>0.000000</td>\n",
       "      <td>0.000000</td>\n",
       "      <td>1.000000</td>\n",
       "      <td>1.00000</td>\n",
       "      <td>1.000</td>\n",
       "    </tr>\n",
       "    <tr>\n",
       "      <th>smoking</th>\n",
       "      <td>1000.0</td>\n",
       "      <td>0.676000</td>\n",
       "      <td>0.468234</td>\n",
       "      <td>0.000000</td>\n",
       "      <td>0.000000</td>\n",
       "      <td>1.000000</td>\n",
       "      <td>1.00000</td>\n",
       "      <td>1.000</td>\n",
       "    </tr>\n",
       "    <tr>\n",
       "      <th>obesity</th>\n",
       "      <td>1000.0</td>\n",
       "      <td>0.550000</td>\n",
       "      <td>0.497743</td>\n",
       "      <td>0.000000</td>\n",
       "      <td>0.000000</td>\n",
       "      <td>1.000000</td>\n",
       "      <td>1.00000</td>\n",
       "      <td>1.000</td>\n",
       "    </tr>\n",
       "    <tr>\n",
       "      <th>alcohol</th>\n",
       "      <td>1000.0</td>\n",
       "      <td>5.021534</td>\n",
       "      <td>6.093979</td>\n",
       "      <td>0.000000</td>\n",
       "      <td>1.000000</td>\n",
       "      <td>1.000000</td>\n",
       "      <td>9.17825</td>\n",
       "      <td>19.871</td>\n",
       "    </tr>\n",
       "    <tr>\n",
       "      <th>exercise</th>\n",
       "      <td>1000.0</td>\n",
       "      <td>5.299777</td>\n",
       "      <td>6.372413</td>\n",
       "      <td>0.000000</td>\n",
       "      <td>0.000000</td>\n",
       "      <td>1.000000</td>\n",
       "      <td>9.82350</td>\n",
       "      <td>19.999</td>\n",
       "    </tr>\n",
       "    <tr>\n",
       "      <th>previous_problems</th>\n",
       "      <td>1000.0</td>\n",
       "      <td>0.497000</td>\n",
       "      <td>0.500241</td>\n",
       "      <td>0.000000</td>\n",
       "      <td>0.000000</td>\n",
       "      <td>0.000000</td>\n",
       "      <td>1.00000</td>\n",
       "      <td>1.000</td>\n",
       "    </tr>\n",
       "    <tr>\n",
       "      <th>medication</th>\n",
       "      <td>1000.0</td>\n",
       "      <td>2.910000</td>\n",
       "      <td>3.137793</td>\n",
       "      <td>0.000000</td>\n",
       "      <td>0.750000</td>\n",
       "      <td>1.000000</td>\n",
       "      <td>5.00000</td>\n",
       "      <td>10.000</td>\n",
       "    </tr>\n",
       "    <tr>\n",
       "      <th>stress_level</th>\n",
       "      <td>1000.0</td>\n",
       "      <td>5.701865</td>\n",
       "      <td>3.179037</td>\n",
       "      <td>0.002000</td>\n",
       "      <td>3.000000</td>\n",
       "      <td>6.000000</td>\n",
       "      <td>8.33250</td>\n",
       "      <td>11.992</td>\n",
       "    </tr>\n",
       "    <tr>\n",
       "      <th>sedentary</th>\n",
       "      <td>1000.0</td>\n",
       "      <td>17.593890</td>\n",
       "      <td>12.357043</td>\n",
       "      <td>0.048371</td>\n",
       "      <td>6.332217</td>\n",
       "      <td>14.995331</td>\n",
       "      <td>28.80900</td>\n",
       "      <td>39.966</td>\n",
       "    </tr>\n",
       "    <tr>\n",
       "      <th>bmi</th>\n",
       "      <td>1000.0</td>\n",
       "      <td>222.822067</td>\n",
       "      <td>248.458434</td>\n",
       "      <td>18.004211</td>\n",
       "      <td>28.356472</td>\n",
       "      <td>39.846061</td>\n",
       "      <td>416.00000</td>\n",
       "      <td>800.000</td>\n",
       "    </tr>\n",
       "    <tr>\n",
       "      <th>trigl</th>\n",
       "      <td>1000.0</td>\n",
       "      <td>212.567000</td>\n",
       "      <td>262.129207</td>\n",
       "      <td>0.000000</td>\n",
       "      <td>3.000000</td>\n",
       "      <td>19.000000</td>\n",
       "      <td>425.00000</td>\n",
       "      <td>798.000</td>\n",
       "    </tr>\n",
       "    <tr>\n",
       "      <th>physical_activity</th>\n",
       "      <td>1000.0</td>\n",
       "      <td>5.251000</td>\n",
       "      <td>2.756374</td>\n",
       "      <td>0.000000</td>\n",
       "      <td>4.000000</td>\n",
       "      <td>5.000000</td>\n",
       "      <td>7.00000</td>\n",
       "      <td>10.000</td>\n",
       "    </tr>\n",
       "    <tr>\n",
       "      <th>sleep_hour</th>\n",
       "      <td>1000.0</td>\n",
       "      <td>3.669000</td>\n",
       "      <td>3.648390</td>\n",
       "      <td>0.000000</td>\n",
       "      <td>0.000000</td>\n",
       "      <td>2.500000</td>\n",
       "      <td>7.00000</td>\n",
       "      <td>10.000</td>\n",
       "    </tr>\n",
       "  </tbody>\n",
       "</table>\n",
       "</div>"
      ],
      "text/plain": [
       "                    count        mean         std        min        25%  \\\n",
       "risk               1000.0   26.887000   30.657725   0.000000   0.000000   \n",
       "age                1000.0  157.269000  118.566583  18.000000  55.000000   \n",
       "cholesterol        1000.0  164.820000  107.019478  40.000000  76.000000   \n",
       "heart_rate         1000.0   38.166000   40.185387   0.000000   1.000000   \n",
       "diabetes           1000.0    0.585000    0.492969   0.000000   0.000000   \n",
       "family_history     1000.0    0.695000    0.460638   0.000000   0.000000   \n",
       "smoking            1000.0    0.676000    0.468234   0.000000   0.000000   \n",
       "obesity            1000.0    0.550000    0.497743   0.000000   0.000000   \n",
       "alcohol            1000.0    5.021534    6.093979   0.000000   1.000000   \n",
       "exercise           1000.0    5.299777    6.372413   0.000000   0.000000   \n",
       "previous_problems  1000.0    0.497000    0.500241   0.000000   0.000000   \n",
       "medication         1000.0    2.910000    3.137793   0.000000   0.750000   \n",
       "stress_level       1000.0    5.701865    3.179037   0.002000   3.000000   \n",
       "sedentary          1000.0   17.593890   12.357043   0.048371   6.332217   \n",
       "bmi                1000.0  222.822067  248.458434  18.004211  28.356472   \n",
       "trigl              1000.0  212.567000  262.129207   0.000000   3.000000   \n",
       "physical_activity  1000.0    5.251000    2.756374   0.000000   4.000000   \n",
       "sleep_hour         1000.0    3.669000    3.648390   0.000000   0.000000   \n",
       "\n",
       "                          50%        75%      max  \n",
       "risk                 9.500000   53.00000   90.000  \n",
       "age                105.000000  255.00000  400.000  \n",
       "cholesterol        115.000000  250.00000  399.000  \n",
       "heart_rate          20.500000   75.25000  110.000  \n",
       "diabetes             1.000000    1.00000    1.000  \n",
       "family_history       1.000000    1.00000    1.000  \n",
       "smoking              1.000000    1.00000    1.000  \n",
       "obesity              1.000000    1.00000    1.000  \n",
       "alcohol              1.000000    9.17825   19.871  \n",
       "exercise             1.000000    9.82350   19.999  \n",
       "previous_problems    0.000000    1.00000    1.000  \n",
       "medication           1.000000    5.00000   10.000  \n",
       "stress_level         6.000000    8.33250   11.992  \n",
       "sedentary           14.995331   28.80900   39.966  \n",
       "bmi                 39.846061  416.00000  800.000  \n",
       "trigl               19.000000  425.00000  798.000  \n",
       "physical_activity    5.000000    7.00000   10.000  \n",
       "sleep_hour           2.500000    7.00000   10.000  "
      ]
     },
     "execution_count": 57,
     "metadata": {},
     "output_type": "execute_result"
    }
   ],
   "source": [
    "df.drop('id', axis=1, inplace=True) #drop redundant columns\n",
    "df.describe().T"
   ]
  },
  {
   "cell_type": "code",
   "execution_count": 58,
   "metadata": {},
   "outputs": [
    {
     "name": "stdout",
     "output_type": "stream",
     "text": [
      "          risk       age  cholesterol  heart_rate  diabetes  family_history  \\\n",
      "0    -0.877445 -0.761717     0.403680    0.842369 -1.187282       -1.509533   \n",
      "1    -0.877445 -1.149879     2.095807    1.489694  0.842260        0.662457   \n",
      "2    -0.877445 -1.149879     1.488137    0.842369  0.842260       -1.509533   \n",
      "3    -0.877445 -0.618266     2.039714    0.867266  0.842260        0.662457   \n",
      "4    -0.877445 -0.770155     1.432044    1.365209  0.842260        0.662457   \n",
      "...        ...       ...          ...         ...       ...             ...   \n",
      "1995       NaN       NaN          NaN         NaN       NaN             NaN   \n",
      "1996       NaN       NaN          NaN         NaN       NaN             NaN   \n",
      "1997       NaN       NaN          NaN         NaN       NaN             NaN   \n",
      "1998       NaN       NaN          NaN         NaN       NaN             NaN   \n",
      "1999       NaN       NaN          NaN         NaN       NaN             NaN   \n",
      "\n",
      "       smoking   obesity   alcohol  exercise  previous_problems  medication  \\\n",
      "0     0.692308 -1.105542 -0.824428 -0.177695          -0.994018   -0.927867   \n",
      "1     0.692308  0.904534 -0.660249 -0.547441           1.006018   -0.927867   \n",
      "2    -1.444444 -1.105542 -0.824428 -0.505835           1.006018   -0.609013   \n",
      "3     0.692308 -1.105542 -0.660249  0.710953           1.006018   -0.927867   \n",
      "4     0.692308  0.904534 -0.824428  0.079166           1.006018   -0.927867   \n",
      "...        ...       ...       ...       ...                ...         ...   \n",
      "1995       NaN       NaN       NaN       NaN                NaN         NaN   \n",
      "1996       NaN       NaN       NaN       NaN                NaN         NaN   \n",
      "1997       NaN       NaN       NaN       NaN                NaN         NaN   \n",
      "1998       NaN       NaN       NaN       NaN                NaN         NaN   \n",
      "1999       NaN       NaN       NaN       NaN                NaN         NaN   \n",
      "\n",
      "      stress_level  sedentary       bmi     trigl  physical_activity  \\\n",
      "0         1.037983  -0.888917 -0.771424  0.280281          -1.905992   \n",
      "1        -1.479762  -1.022635 -0.787757  0.085623          -1.543015   \n",
      "2         1.037983  -0.658291 -0.783805  1.429144          -0.454084   \n",
      "3         1.037983  -0.805199 -0.750430  0.631428          -0.817061   \n",
      "4         0.093828  -1.301858 -0.809445  0.070355          -1.543015   \n",
      "...            ...        ...       ...       ...                ...   \n",
      "1995           NaN        NaN       NaN       NaN                NaN   \n",
      "1996           NaN        NaN       NaN       NaN                NaN   \n",
      "1997           NaN        NaN       NaN       NaN                NaN   \n",
      "1998           NaN        NaN       NaN       NaN                NaN   \n",
      "1999           NaN        NaN       NaN       NaN                NaN   \n",
      "\n",
      "      sleep_hour  \n",
      "0       0.639232  \n",
      "1       0.913462  \n",
      "2       0.090770  \n",
      "3       0.090770  \n",
      "4       0.365001  \n",
      "...          ...  \n",
      "1995         NaN  \n",
      "1996         NaN  \n",
      "1997         NaN  \n",
      "1998         NaN  \n",
      "1999         NaN  \n",
      "\n",
      "[2000 rows x 18 columns]\n"
     ]
    }
   ],
   "source": [
    "'''\n",
    "from sklearn.preprocessing import MinMaxScaler\n",
    "\n",
    "# Assuming 'df' is your pandas DataFrame\n",
    "\n",
    "# Instantiate the MinMaxScaler\n",
    "scaler = MinMaxScaler()\n",
    "\n",
    "# Normalize the DataFrame\n",
    "normalized_df = pd.DataFrame(scaler.fit_transform(df), columns=df.columns)\n",
    "\n",
    "# Print the new normalized dataset\n",
    "print(normalized_df)\n",
    "'''\n",
    "'''\n",
    "from sklearn.preprocessing import StandardScaler\n",
    "\n",
    "# Assuming 'df' is your pandas DataFrame\n",
    "\n",
    "# Identify columns with only 0 and 1 values\n",
    "binary_columns = [col for col in df.columns if set(df[col].unique()) == {0, 1}]\n",
    "\n",
    "# Remove rows with 0 values in binary columns\n",
    "filtered_df = df[df[binary_columns].sum(axis=1) != 0]\n",
    "\n",
    "# Normalize/standardize the remaining dataset\n",
    "scaler = StandardScaler()\n",
    "normalized_df = pd.DataFrame(scaler.fit_transform(filtered_df), columns=filtered_df.columns)\n",
    "\n",
    "# Print the new normalized/standardized dataset\n",
    "print(normalized_df)\n",
    "\n",
    "'''\n",
    "\n",
    "from sklearn.preprocessing import StandardScaler\n",
    "\n",
    "# Assuming 'df' is your pandas DataFrame\n",
    "\n",
    "# Instantiate the StandardScaler\n",
    "scaler = StandardScaler()\n",
    "\n",
    "# Standardize the DataFrame\n",
    "normalized_df = pd.DataFrame(scaler.fit_transform(df), columns=df.columns)\n",
    "\n",
    "# Print the new standardized dataset\n",
    "print(normalized_df)"
   ]
  },
  {
   "cell_type": "code",
   "execution_count": 59,
   "metadata": {},
   "outputs": [
    {
     "name": "stdout",
     "output_type": "stream",
     "text": [
      "['age', 'cholesterol', 'heart_rate', 'diabetes', 'family_history', 'smoking', 'obesity', 'alcohol', 'exercise', 'previous_problems', 'medication', 'stress_level', 'sedentary', 'bmi', 'trigl', 'physical_activity', 'sleep_hour']\n"
     ]
    }
   ],
   "source": [
    "'''\n",
    "# Get the absolute value of the correlation\n",
    "cor_target = abs(corr[\"risk\"])\n",
    "\n",
    "# Select highly correlated features (thresold = 0.001)\n",
    "relevant_features = cor_target[cor_target =! 0.002]\n",
    "'''\n",
    "# Collect the names of the features\n",
    "names = [index for index, value in normalized_df.items()]\n",
    "\n",
    "# Drop the target variable from the results\n",
    "names.remove('risk')\n",
    "\n",
    "# Display the results\n",
    "print(names)"
   ]
  },
  {
   "cell_type": "markdown",
   "metadata": {},
   "source": [
    "# Value"
   ]
  },
  {
   "cell_type": "code",
   "execution_count": 60,
   "metadata": {},
   "outputs": [
    {
     "name": "stdout",
     "output_type": "stream",
     "text": [
      "[[-0.76171688  0.40367984  0.84236914 ...  0.28028065 -1.90599238\n",
      "   0.63923165]\n",
      " [-1.14987867  2.09580702  1.48969425 ...  0.08562276 -1.54301535\n",
      "   0.9134623 ]\n",
      " [-1.14987867  1.48813704  0.84236914 ...  1.4291439  -0.45408426\n",
      "   0.09077035]\n",
      " ...\n",
      " [        nan         nan         nan ...         nan         nan\n",
      "          nan]\n",
      " [        nan         nan         nan ...         nan         nan\n",
      "          nan]\n",
      " [        nan         nan         nan ...         nan         nan\n",
      "          nan]]\n",
      "[ 0.  0.  0. ... nan nan nan]\n"
     ]
    }
   ],
   "source": [
    "X = normalized_df[names].values\n",
    "y = df['risk'].values\n",
    "\n",
    "print(X)\n",
    "print(y)"
   ]
  },
  {
   "cell_type": "code",
   "execution_count": 61,
   "metadata": {},
   "outputs": [],
   "source": [
    "def train_test_split(X, y, random_state=41, test_size=0.2):\n",
    "    \"\"\"\n",
    "    Splits the data into training and testing sets.\n",
    "\n",
    "    Parameters:\n",
    "        X (numpy.ndarray): Features array of shape (n_samples, n_features).\n",
    "        y (numpy.ndarray): Target array of shape (n_samples,).\n",
    "        random_state (int): Seed for the random number generator. Default is 42.\n",
    "        test_size (float): Proportion of samples to include in the test set. Default is 0.2.\n",
    "\n",
    "    Returns:\n",
    "        Tuple[numpy.ndarray]: A tuple containing X_train, X_test, y_train, y_test.\n",
    "    \"\"\"\n",
    "    # Get number of samples\n",
    "    n_samples = X.shape[0]\n",
    "\n",
    "    # Set the seed for the random number generator\n",
    "    np.random.seed(random_state)\n",
    "\n",
    "    # Shuffle the indices\n",
    "    shuffled_indices = np.random.permutation(np.arange(n_samples))\n",
    "\n",
    "    # Determine the size of the test set\n",
    "    test_size = int(n_samples * test_size)\n",
    "\n",
    "    # Split the indices into test and train\n",
    "    test_indices = shuffled_indices[:test_size]\n",
    "    train_indices = shuffled_indices[test_size:]\n",
    "\n",
    "    # Split the features and target arrays into test and train\n",
    "    X_train, X_test = X[train_indices], X[test_indices]\n",
    "    y_train, y_test = y[train_indices], y[test_indices]\n",
    "\n",
    "    return X_train, X_test, y_train, y_test"
   ]
  },
  {
   "cell_type": "code",
   "execution_count": 62,
   "metadata": {},
   "outputs": [],
   "source": [
    "def scale(X):\n",
    "    \"\"\"\n",
    "    Standardizes the data in the array X.\n",
    "\n",
    "    Parameters:\n",
    "        X (numpy.ndarray): Features array of shape (n_samples, n_features).\n",
    "\n",
    "    Returns:\n",
    "        numpy.ndarray: The standardized features array.\n",
    "    \"\"\"\n",
    "    '''\n",
    "    # Calculate the mean and standard deviation of each feature\n",
    "    mean = np.mean(X, axis=0)\n",
    "    std = np.std(X, axis=0)\n",
    "\n",
    "    # Standardize the data\n",
    "    X = (X - mean) / std\n",
    "    '''\n",
    "    return X"
   ]
  },
  {
   "cell_type": "code",
   "execution_count": 63,
   "metadata": {},
   "outputs": [],
   "source": [
    "X = scale(X)\n",
    "X_train, X_test, y_train, y_test = train_test_split(X, y, test_size = 0.2, random_state=42) #split the  data into traing and validating"
   ]
  },
  {
   "cell_type": "code",
   "execution_count": 64,
   "metadata": {},
   "outputs": [],
   "source": [
    "def relu(Z):\n",
    "    \"\"\"\n",
    "    Implement the ReLU function.\n",
    "\n",
    "    Arguments:\n",
    "    Z -- Output of the linear layer\n",
    "\n",
    "    Returns:\n",
    "    A -- Post-activation parameter\n",
    "    cache -- used for backpropagation\n",
    "    \"\"\"\n",
    "    A = np.maximum(0,Z)\n",
    "    cache = Z\n",
    "    return A, cache"
   ]
  },
  {
   "cell_type": "code",
   "execution_count": 65,
   "metadata": {},
   "outputs": [
    {
     "data": {
      "application/vnd.plotly.v1+json": {
       "config": {
        "plotlyServerURL": "https://plot.ly"
       },
       "data": [
        {
         "hovertemplate": "x=%{x}<br>y=%{y}<extra></extra>",
         "legendgroup": "",
         "line": {
          "color": "#636efa",
          "dash": "solid"
         },
         "marker": {
          "symbol": "circle"
         },
         "mode": "lines",
         "name": "",
         "orientation": "v",
         "showlegend": false,
         "type": "scatter",
         "x": [
          -12,
          -11.879396984924623,
          -11.758793969849247,
          -11.638190954773869,
          -11.517587939698492,
          -11.396984924623116,
          -11.27638190954774,
          -11.155778894472363,
          -11.035175879396984,
          -10.914572864321608,
          -10.793969849246231,
          -10.673366834170855,
          -10.552763819095478,
          -10.4321608040201,
          -10.311557788944723,
          -10.190954773869347,
          -10.07035175879397,
          -9.949748743718594,
          -9.829145728643216,
          -9.708542713567839,
          -9.587939698492463,
          -9.467336683417086,
          -9.34673366834171,
          -9.226130653266331,
          -9.105527638190955,
          -8.984924623115578,
          -8.864321608040202,
          -8.743718592964825,
          -8.623115577889447,
          -8.50251256281407,
          -8.381909547738694,
          -8.261306532663317,
          -8.14070351758794,
          -8.020100502512562,
          -7.899497487437186,
          -7.778894472361809,
          -7.658291457286432,
          -7.5376884422110555,
          -7.417085427135679,
          -7.296482412060302,
          -7.175879396984925,
          -7.055276381909548,
          -6.934673366834171,
          -6.814070351758795,
          -6.693467336683417,
          -6.572864321608041,
          -6.452261306532663,
          -6.331658291457287,
          -6.211055276381909,
          -6.090452261306533,
          -5.969849246231156,
          -5.849246231155779,
          -5.728643216080402,
          -5.608040201005025,
          -5.4874371859296485,
          -5.366834170854272,
          -5.2462311557788945,
          -5.125628140703518,
          -5.005025125628141,
          -4.884422110552764,
          -4.763819095477388,
          -4.64321608040201,
          -4.522613065326634,
          -4.402010050251256,
          -4.28140703517588,
          -4.160804020100503,
          -4.040201005025126,
          -3.9195979899497484,
          -3.798994974874372,
          -3.6783919597989954,
          -3.557788944723619,
          -3.4371859296482423,
          -3.316582914572864,
          -3.1959798994974875,
          -3.075376884422111,
          -2.9547738693467345,
          -2.834170854271358,
          -2.7135678391959797,
          -2.592964824120603,
          -2.4723618090452266,
          -2.35175879396985,
          -2.2311557788944736,
          -2.1105527638190953,
          -1.9899497487437188,
          -1.8693467336683423,
          -1.7487437185929657,
          -1.6281407035175892,
          -1.507537688442211,
          -1.3869346733668344,
          -1.2663316582914579,
          -1.1457286432160814,
          -1.0251256281407048,
          -0.9045226130653266,
          -0.78391959798995,
          -0.6633165829145735,
          -0.542713567839197,
          -0.4221105527638187,
          -0.3015075376884422,
          -0.18090452261306567,
          -0.06030150753768915,
          0.06030150753768737,
          0.18090452261306567,
          0.3015075376884422,
          0.4221105527638187,
          0.5427135678391952,
          0.6633165829145717,
          0.78391959798995,
          0.9045226130653266,
          1.025125628140703,
          1.1457286432160796,
          1.266331658291456,
          1.3869346733668344,
          1.507537688442211,
          1.6281407035175874,
          1.748743718592964,
          1.8693467336683405,
          1.9899497487437188,
          2.1105527638190953,
          2.231155778894472,
          2.3517587939698483,
          2.472361809045225,
          2.592964824120603,
          2.7135678391959797,
          2.834170854271356,
          2.9547738693467327,
          3.075376884422109,
          3.1959798994974875,
          3.316582914572864,
          3.4371859296482405,
          3.557788944723617,
          3.6783919597989936,
          3.798994974874372,
          3.9195979899497484,
          4.040201005025125,
          4.160804020100503,
          4.281407035175878,
          4.402010050251256,
          4.522613065326631,
          4.643216080402009,
          4.763819095477388,
          4.884422110552762,
          5.005025125628141,
          5.125628140703515,
          5.246231155778894,
          5.366834170854272,
          5.487437185929647,
          5.608040201005025,
          5.7286432160804,
          5.849246231155778,
          5.969849246231156,
          6.090452261306531,
          6.211055276381909,
          6.331658291457284,
          6.452261306532662,
          6.572864321608041,
          6.693467336683415,
          6.814070351758794,
          6.9346733668341685,
          7.055276381909547,
          7.175879396984925,
          7.2964824120603,
          7.417085427135678,
          7.537688442211053,
          7.658291457286431,
          7.778894472361809,
          7.899497487437184,
          8.020100502512562,
          8.140703517587937,
          8.261306532663315,
          8.381909547738694,
          8.502512562814069,
          8.623115577889447,
          8.743718592964822,
          8.8643216080402,
          8.984924623115578,
          9.105527638190953,
          9.226130653266331,
          9.346733668341706,
          9.467336683417084,
          9.587939698492463,
          9.708542713567837,
          9.829145728643216,
          9.94974874371859,
          10.070351758793969,
          10.190954773869347,
          10.311557788944722,
          10.4321608040201,
          10.552763819095475,
          10.673366834170853,
          10.793969849246231,
          10.914572864321606,
          11.035175879396984,
          11.155778894472363,
          11.276381909547737,
          11.396984924623116,
          11.51758793969849,
          11.638190954773869,
          11.758793969849247,
          11.879396984924622,
          12
         ],
         "xaxis": "x",
         "y": [
          0,
          0,
          0,
          0,
          0,
          0,
          0,
          0,
          0,
          0,
          0,
          0,
          0,
          0,
          0,
          0,
          0,
          0,
          0,
          0,
          0,
          0,
          0,
          0,
          0,
          0,
          0,
          0,
          0,
          0,
          0,
          0,
          0,
          0,
          0,
          0,
          0,
          0,
          0,
          0,
          0,
          0,
          0,
          0,
          0,
          0,
          0,
          0,
          0,
          0,
          0,
          0,
          0,
          0,
          0,
          0,
          0,
          0,
          0,
          0,
          0,
          0,
          0,
          0,
          0,
          0,
          0,
          0,
          0,
          0,
          0,
          0,
          0,
          0,
          0,
          0,
          0,
          0,
          0,
          0,
          0,
          0,
          0,
          0,
          0,
          0,
          0,
          0,
          0,
          0,
          0,
          0,
          0,
          0,
          0,
          0,
          0,
          0,
          0,
          0,
          0.06030150753768737,
          0.18090452261306567,
          0.3015075376884422,
          0.4221105527638187,
          0.5427135678391952,
          0.6633165829145717,
          0.78391959798995,
          0.9045226130653266,
          1.025125628140703,
          1.1457286432160796,
          1.266331658291456,
          1.3869346733668344,
          1.507537688442211,
          1.6281407035175874,
          1.748743718592964,
          1.8693467336683405,
          1.9899497487437188,
          2.1105527638190953,
          2.231155778894472,
          2.3517587939698483,
          2.472361809045225,
          2.592964824120603,
          2.7135678391959797,
          2.834170854271356,
          2.9547738693467327,
          3.075376884422109,
          3.1959798994974875,
          3.316582914572864,
          3.4371859296482405,
          3.557788944723617,
          3.6783919597989936,
          3.798994974874372,
          3.9195979899497484,
          4.040201005025125,
          4.160804020100503,
          4.281407035175878,
          4.402010050251256,
          4.522613065326631,
          4.643216080402009,
          4.763819095477388,
          4.884422110552762,
          5.005025125628141,
          5.125628140703515,
          5.246231155778894,
          5.366834170854272,
          5.487437185929647,
          5.608040201005025,
          5.7286432160804,
          5.849246231155778,
          5.969849246231156,
          6.090452261306531,
          6.211055276381909,
          6.331658291457284,
          6.452261306532662,
          6.572864321608041,
          6.693467336683415,
          6.814070351758794,
          6.9346733668341685,
          7.055276381909547,
          7.175879396984925,
          7.2964824120603,
          7.417085427135678,
          7.537688442211053,
          7.658291457286431,
          7.778894472361809,
          7.899497487437184,
          8.020100502512562,
          8.140703517587937,
          8.261306532663315,
          8.381909547738694,
          8.502512562814069,
          8.623115577889447,
          8.743718592964822,
          8.8643216080402,
          8.984924623115578,
          9.105527638190953,
          9.226130653266331,
          9.346733668341706,
          9.467336683417084,
          9.587939698492463,
          9.708542713567837,
          9.829145728643216,
          9.94974874371859,
          10.070351758793969,
          10.190954773869347,
          10.311557788944722,
          10.4321608040201,
          10.552763819095475,
          10.673366834170853,
          10.793969849246231,
          10.914572864321606,
          11.035175879396984,
          11.155778894472363,
          11.276381909547737,
          11.396984924623116,
          11.51758793969849,
          11.638190954773869,
          11.758793969849247,
          11.879396984924622,
          12
         ],
         "yaxis": "y"
        }
       ],
       "layout": {
        "legend": {
         "tracegroupgap": 0
        },
        "template": {
         "data": {
          "bar": [
           {
            "error_x": {
             "color": "#f2f5fa"
            },
            "error_y": {
             "color": "#f2f5fa"
            },
            "marker": {
             "line": {
              "color": "rgb(17,17,17)",
              "width": 0.5
             },
             "pattern": {
              "fillmode": "overlay",
              "size": 10,
              "solidity": 0.2
             }
            },
            "type": "bar"
           }
          ],
          "barpolar": [
           {
            "marker": {
             "line": {
              "color": "rgb(17,17,17)",
              "width": 0.5
             },
             "pattern": {
              "fillmode": "overlay",
              "size": 10,
              "solidity": 0.2
             }
            },
            "type": "barpolar"
           }
          ],
          "carpet": [
           {
            "aaxis": {
             "endlinecolor": "#A2B1C6",
             "gridcolor": "#506784",
             "linecolor": "#506784",
             "minorgridcolor": "#506784",
             "startlinecolor": "#A2B1C6"
            },
            "baxis": {
             "endlinecolor": "#A2B1C6",
             "gridcolor": "#506784",
             "linecolor": "#506784",
             "minorgridcolor": "#506784",
             "startlinecolor": "#A2B1C6"
            },
            "type": "carpet"
           }
          ],
          "choropleth": [
           {
            "colorbar": {
             "outlinewidth": 0,
             "ticks": ""
            },
            "type": "choropleth"
           }
          ],
          "contour": [
           {
            "colorbar": {
             "outlinewidth": 0,
             "ticks": ""
            },
            "colorscale": [
             [
              0,
              "#0d0887"
             ],
             [
              0.1111111111111111,
              "#46039f"
             ],
             [
              0.2222222222222222,
              "#7201a8"
             ],
             [
              0.3333333333333333,
              "#9c179e"
             ],
             [
              0.4444444444444444,
              "#bd3786"
             ],
             [
              0.5555555555555556,
              "#d8576b"
             ],
             [
              0.6666666666666666,
              "#ed7953"
             ],
             [
              0.7777777777777778,
              "#fb9f3a"
             ],
             [
              0.8888888888888888,
              "#fdca26"
             ],
             [
              1,
              "#f0f921"
             ]
            ],
            "type": "contour"
           }
          ],
          "contourcarpet": [
           {
            "colorbar": {
             "outlinewidth": 0,
             "ticks": ""
            },
            "type": "contourcarpet"
           }
          ],
          "heatmap": [
           {
            "colorbar": {
             "outlinewidth": 0,
             "ticks": ""
            },
            "colorscale": [
             [
              0,
              "#0d0887"
             ],
             [
              0.1111111111111111,
              "#46039f"
             ],
             [
              0.2222222222222222,
              "#7201a8"
             ],
             [
              0.3333333333333333,
              "#9c179e"
             ],
             [
              0.4444444444444444,
              "#bd3786"
             ],
             [
              0.5555555555555556,
              "#d8576b"
             ],
             [
              0.6666666666666666,
              "#ed7953"
             ],
             [
              0.7777777777777778,
              "#fb9f3a"
             ],
             [
              0.8888888888888888,
              "#fdca26"
             ],
             [
              1,
              "#f0f921"
             ]
            ],
            "type": "heatmap"
           }
          ],
          "heatmapgl": [
           {
            "colorbar": {
             "outlinewidth": 0,
             "ticks": ""
            },
            "colorscale": [
             [
              0,
              "#0d0887"
             ],
             [
              0.1111111111111111,
              "#46039f"
             ],
             [
              0.2222222222222222,
              "#7201a8"
             ],
             [
              0.3333333333333333,
              "#9c179e"
             ],
             [
              0.4444444444444444,
              "#bd3786"
             ],
             [
              0.5555555555555556,
              "#d8576b"
             ],
             [
              0.6666666666666666,
              "#ed7953"
             ],
             [
              0.7777777777777778,
              "#fb9f3a"
             ],
             [
              0.8888888888888888,
              "#fdca26"
             ],
             [
              1,
              "#f0f921"
             ]
            ],
            "type": "heatmapgl"
           }
          ],
          "histogram": [
           {
            "marker": {
             "pattern": {
              "fillmode": "overlay",
              "size": 10,
              "solidity": 0.2
             }
            },
            "type": "histogram"
           }
          ],
          "histogram2d": [
           {
            "colorbar": {
             "outlinewidth": 0,
             "ticks": ""
            },
            "colorscale": [
             [
              0,
              "#0d0887"
             ],
             [
              0.1111111111111111,
              "#46039f"
             ],
             [
              0.2222222222222222,
              "#7201a8"
             ],
             [
              0.3333333333333333,
              "#9c179e"
             ],
             [
              0.4444444444444444,
              "#bd3786"
             ],
             [
              0.5555555555555556,
              "#d8576b"
             ],
             [
              0.6666666666666666,
              "#ed7953"
             ],
             [
              0.7777777777777778,
              "#fb9f3a"
             ],
             [
              0.8888888888888888,
              "#fdca26"
             ],
             [
              1,
              "#f0f921"
             ]
            ],
            "type": "histogram2d"
           }
          ],
          "histogram2dcontour": [
           {
            "colorbar": {
             "outlinewidth": 0,
             "ticks": ""
            },
            "colorscale": [
             [
              0,
              "#0d0887"
             ],
             [
              0.1111111111111111,
              "#46039f"
             ],
             [
              0.2222222222222222,
              "#7201a8"
             ],
             [
              0.3333333333333333,
              "#9c179e"
             ],
             [
              0.4444444444444444,
              "#bd3786"
             ],
             [
              0.5555555555555556,
              "#d8576b"
             ],
             [
              0.6666666666666666,
              "#ed7953"
             ],
             [
              0.7777777777777778,
              "#fb9f3a"
             ],
             [
              0.8888888888888888,
              "#fdca26"
             ],
             [
              1,
              "#f0f921"
             ]
            ],
            "type": "histogram2dcontour"
           }
          ],
          "mesh3d": [
           {
            "colorbar": {
             "outlinewidth": 0,
             "ticks": ""
            },
            "type": "mesh3d"
           }
          ],
          "parcoords": [
           {
            "line": {
             "colorbar": {
              "outlinewidth": 0,
              "ticks": ""
             }
            },
            "type": "parcoords"
           }
          ],
          "pie": [
           {
            "automargin": true,
            "type": "pie"
           }
          ],
          "scatter": [
           {
            "marker": {
             "line": {
              "color": "#283442"
             }
            },
            "type": "scatter"
           }
          ],
          "scatter3d": [
           {
            "line": {
             "colorbar": {
              "outlinewidth": 0,
              "ticks": ""
             }
            },
            "marker": {
             "colorbar": {
              "outlinewidth": 0,
              "ticks": ""
             }
            },
            "type": "scatter3d"
           }
          ],
          "scattercarpet": [
           {
            "marker": {
             "colorbar": {
              "outlinewidth": 0,
              "ticks": ""
             }
            },
            "type": "scattercarpet"
           }
          ],
          "scattergeo": [
           {
            "marker": {
             "colorbar": {
              "outlinewidth": 0,
              "ticks": ""
             }
            },
            "type": "scattergeo"
           }
          ],
          "scattergl": [
           {
            "marker": {
             "line": {
              "color": "#283442"
             }
            },
            "type": "scattergl"
           }
          ],
          "scattermapbox": [
           {
            "marker": {
             "colorbar": {
              "outlinewidth": 0,
              "ticks": ""
             }
            },
            "type": "scattermapbox"
           }
          ],
          "scatterpolar": [
           {
            "marker": {
             "colorbar": {
              "outlinewidth": 0,
              "ticks": ""
             }
            },
            "type": "scatterpolar"
           }
          ],
          "scatterpolargl": [
           {
            "marker": {
             "colorbar": {
              "outlinewidth": 0,
              "ticks": ""
             }
            },
            "type": "scatterpolargl"
           }
          ],
          "scatterternary": [
           {
            "marker": {
             "colorbar": {
              "outlinewidth": 0,
              "ticks": ""
             }
            },
            "type": "scatterternary"
           }
          ],
          "surface": [
           {
            "colorbar": {
             "outlinewidth": 0,
             "ticks": ""
            },
            "colorscale": [
             [
              0,
              "#0d0887"
             ],
             [
              0.1111111111111111,
              "#46039f"
             ],
             [
              0.2222222222222222,
              "#7201a8"
             ],
             [
              0.3333333333333333,
              "#9c179e"
             ],
             [
              0.4444444444444444,
              "#bd3786"
             ],
             [
              0.5555555555555556,
              "#d8576b"
             ],
             [
              0.6666666666666666,
              "#ed7953"
             ],
             [
              0.7777777777777778,
              "#fb9f3a"
             ],
             [
              0.8888888888888888,
              "#fdca26"
             ],
             [
              1,
              "#f0f921"
             ]
            ],
            "type": "surface"
           }
          ],
          "table": [
           {
            "cells": {
             "fill": {
              "color": "#506784"
             },
             "line": {
              "color": "rgb(17,17,17)"
             }
            },
            "header": {
             "fill": {
              "color": "#2a3f5f"
             },
             "line": {
              "color": "rgb(17,17,17)"
             }
            },
            "type": "table"
           }
          ]
         },
         "layout": {
          "annotationdefaults": {
           "arrowcolor": "#f2f5fa",
           "arrowhead": 0,
           "arrowwidth": 1
          },
          "autotypenumbers": "strict",
          "coloraxis": {
           "colorbar": {
            "outlinewidth": 0,
            "ticks": ""
           }
          },
          "colorscale": {
           "diverging": [
            [
             0,
             "#8e0152"
            ],
            [
             0.1,
             "#c51b7d"
            ],
            [
             0.2,
             "#de77ae"
            ],
            [
             0.3,
             "#f1b6da"
            ],
            [
             0.4,
             "#fde0ef"
            ],
            [
             0.5,
             "#f7f7f7"
            ],
            [
             0.6,
             "#e6f5d0"
            ],
            [
             0.7,
             "#b8e186"
            ],
            [
             0.8,
             "#7fbc41"
            ],
            [
             0.9,
             "#4d9221"
            ],
            [
             1,
             "#276419"
            ]
           ],
           "sequential": [
            [
             0,
             "#0d0887"
            ],
            [
             0.1111111111111111,
             "#46039f"
            ],
            [
             0.2222222222222222,
             "#7201a8"
            ],
            [
             0.3333333333333333,
             "#9c179e"
            ],
            [
             0.4444444444444444,
             "#bd3786"
            ],
            [
             0.5555555555555556,
             "#d8576b"
            ],
            [
             0.6666666666666666,
             "#ed7953"
            ],
            [
             0.7777777777777778,
             "#fb9f3a"
            ],
            [
             0.8888888888888888,
             "#fdca26"
            ],
            [
             1,
             "#f0f921"
            ]
           ],
           "sequentialminus": [
            [
             0,
             "#0d0887"
            ],
            [
             0.1111111111111111,
             "#46039f"
            ],
            [
             0.2222222222222222,
             "#7201a8"
            ],
            [
             0.3333333333333333,
             "#9c179e"
            ],
            [
             0.4444444444444444,
             "#bd3786"
            ],
            [
             0.5555555555555556,
             "#d8576b"
            ],
            [
             0.6666666666666666,
             "#ed7953"
            ],
            [
             0.7777777777777778,
             "#fb9f3a"
            ],
            [
             0.8888888888888888,
             "#fdca26"
            ],
            [
             1,
             "#f0f921"
            ]
           ]
          },
          "colorway": [
           "#636efa",
           "#EF553B",
           "#00cc96",
           "#ab63fa",
           "#FFA15A",
           "#19d3f3",
           "#FF6692",
           "#B6E880",
           "#FF97FF",
           "#FECB52"
          ],
          "font": {
           "color": "#f2f5fa"
          },
          "geo": {
           "bgcolor": "rgb(17,17,17)",
           "lakecolor": "rgb(17,17,17)",
           "landcolor": "rgb(17,17,17)",
           "showlakes": true,
           "showland": true,
           "subunitcolor": "#506784"
          },
          "hoverlabel": {
           "align": "left"
          },
          "hovermode": "closest",
          "mapbox": {
           "style": "dark"
          },
          "paper_bgcolor": "rgb(17,17,17)",
          "plot_bgcolor": "rgb(17,17,17)",
          "polar": {
           "angularaxis": {
            "gridcolor": "#506784",
            "linecolor": "#506784",
            "ticks": ""
           },
           "bgcolor": "rgb(17,17,17)",
           "radialaxis": {
            "gridcolor": "#506784",
            "linecolor": "#506784",
            "ticks": ""
           }
          },
          "scene": {
           "xaxis": {
            "backgroundcolor": "rgb(17,17,17)",
            "gridcolor": "#506784",
            "gridwidth": 2,
            "linecolor": "#506784",
            "showbackground": true,
            "ticks": "",
            "zerolinecolor": "#C8D4E3"
           },
           "yaxis": {
            "backgroundcolor": "rgb(17,17,17)",
            "gridcolor": "#506784",
            "gridwidth": 2,
            "linecolor": "#506784",
            "showbackground": true,
            "ticks": "",
            "zerolinecolor": "#C8D4E3"
           },
           "zaxis": {
            "backgroundcolor": "rgb(17,17,17)",
            "gridcolor": "#506784",
            "gridwidth": 2,
            "linecolor": "#506784",
            "showbackground": true,
            "ticks": "",
            "zerolinecolor": "#C8D4E3"
           }
          },
          "shapedefaults": {
           "line": {
            "color": "#f2f5fa"
           }
          },
          "sliderdefaults": {
           "bgcolor": "#C8D4E3",
           "bordercolor": "rgb(17,17,17)",
           "borderwidth": 1,
           "tickwidth": 0
          },
          "ternary": {
           "aaxis": {
            "gridcolor": "#506784",
            "linecolor": "#506784",
            "ticks": ""
           },
           "baxis": {
            "gridcolor": "#506784",
            "linecolor": "#506784",
            "ticks": ""
           },
           "bgcolor": "rgb(17,17,17)",
           "caxis": {
            "gridcolor": "#506784",
            "linecolor": "#506784",
            "ticks": ""
           }
          },
          "title": {
           "x": 0.05
          },
          "updatemenudefaults": {
           "bgcolor": "#506784",
           "borderwidth": 0
          },
          "xaxis": {
           "automargin": true,
           "gridcolor": "#283442",
           "linecolor": "#506784",
           "ticks": "",
           "title": {
            "standoff": 15
           },
           "zerolinecolor": "#283442",
           "zerolinewidth": 2
          },
          "yaxis": {
           "automargin": true,
           "gridcolor": "#283442",
           "linecolor": "#506784",
           "ticks": "",
           "title": {
            "standoff": 15
           },
           "zerolinecolor": "#283442",
           "zerolinewidth": 2
          }
         }
        },
        "title": {
         "font": {
          "color": "#00F1FF"
         },
         "text": "ReLU Function"
        },
        "xaxis": {
         "anchor": "y",
         "color": "#00F1FF",
         "domain": [
          0,
          1
         ],
         "title": {
          "text": "x"
         }
        },
        "yaxis": {
         "anchor": "x",
         "color": "#00F1FF",
         "domain": [
          0,
          1
         ],
         "title": {
          "text": "y"
         }
        }
       }
      }
     },
     "metadata": {},
     "output_type": "display_data"
    }
   ],
   "source": [
    "z = np.linspace(-12, 12, 200)\n",
    "fig = px.line(x=z, y=relu(z)[0],title='ReLU Function',template=\"plotly_dark\")\n",
    "fig.update_layout(\n",
    "    title_font_color=\"#00F1FF\",\n",
    "    xaxis=dict(color=\"#00F1FF\"),\n",
    "    yaxis=dict(color=\"#00F1FF\")\n",
    ")\n",
    "fig.show()"
   ]
  },
  {
   "cell_type": "code",
   "execution_count": 66,
   "metadata": {},
   "outputs": [],
   "source": [
    "def relu_backward(dA, cache):\n",
    "    \"\"\"\n",
    "    Implement the backward propagation for a single ReLU unit.\n",
    "\n",
    "    Arguments:\n",
    "    dA -- post-activation gradient\n",
    "    cache -- 'Z'  stored for backpropagation\n",
    "\n",
    "    Returns:\n",
    "    dZ -- Gradient of the cost with respect to Z\n",
    "    \"\"\"\n",
    "    Z = cache\n",
    "    dZ = np.array(dA, copy=True)\n",
    "    # When z <= 0, dz is equal to 0 as well.\n",
    "    dZ[Z <= 0] = 0\n",
    "\n",
    "    return dZ"
   ]
  },
  {
   "cell_type": "code",
   "execution_count": 67,
   "metadata": {},
   "outputs": [],
   "source": [
    "def sigmoid(Z):\n",
    "    \"\"\"\n",
    "    Implement the Sigmoid function.\n",
    "\n",
    "    Arguments:\n",
    "    Z -- Output of the linear layer\n",
    "\n",
    "    Returns:\n",
    "    A -- Post-activation parameter\n",
    "    cache -- a python dictionary containing \"A\" for backpropagation\n",
    "    \"\"\"\n",
    "    A = 1/(1+np.exp(-Z))\n",
    "    cache = Z\n",
    "    return A, cache"
   ]
  },
  {
   "cell_type": "code",
   "execution_count": 68,
   "metadata": {},
   "outputs": [
    {
     "data": {
      "application/vnd.plotly.v1+json": {
       "config": {
        "plotlyServerURL": "https://plot.ly"
       },
       "data": [
        {
         "hovertemplate": "x=%{x}<br>y=%{y}<extra></extra>",
         "legendgroup": "",
         "line": {
          "color": "#636efa",
          "dash": "solid"
         },
         "marker": {
          "symbol": "circle"
         },
         "mode": "lines",
         "name": "",
         "orientation": "v",
         "showlegend": false,
         "type": "scatter",
         "x": [
          -12,
          -11.879396984924623,
          -11.758793969849247,
          -11.638190954773869,
          -11.517587939698492,
          -11.396984924623116,
          -11.27638190954774,
          -11.155778894472363,
          -11.035175879396984,
          -10.914572864321608,
          -10.793969849246231,
          -10.673366834170855,
          -10.552763819095478,
          -10.4321608040201,
          -10.311557788944723,
          -10.190954773869347,
          -10.07035175879397,
          -9.949748743718594,
          -9.829145728643216,
          -9.708542713567839,
          -9.587939698492463,
          -9.467336683417086,
          -9.34673366834171,
          -9.226130653266331,
          -9.105527638190955,
          -8.984924623115578,
          -8.864321608040202,
          -8.743718592964825,
          -8.623115577889447,
          -8.50251256281407,
          -8.381909547738694,
          -8.261306532663317,
          -8.14070351758794,
          -8.020100502512562,
          -7.899497487437186,
          -7.778894472361809,
          -7.658291457286432,
          -7.5376884422110555,
          -7.417085427135679,
          -7.296482412060302,
          -7.175879396984925,
          -7.055276381909548,
          -6.934673366834171,
          -6.814070351758795,
          -6.693467336683417,
          -6.572864321608041,
          -6.452261306532663,
          -6.331658291457287,
          -6.211055276381909,
          -6.090452261306533,
          -5.969849246231156,
          -5.849246231155779,
          -5.728643216080402,
          -5.608040201005025,
          -5.4874371859296485,
          -5.366834170854272,
          -5.2462311557788945,
          -5.125628140703518,
          -5.005025125628141,
          -4.884422110552764,
          -4.763819095477388,
          -4.64321608040201,
          -4.522613065326634,
          -4.402010050251256,
          -4.28140703517588,
          -4.160804020100503,
          -4.040201005025126,
          -3.9195979899497484,
          -3.798994974874372,
          -3.6783919597989954,
          -3.557788944723619,
          -3.4371859296482423,
          -3.316582914572864,
          -3.1959798994974875,
          -3.075376884422111,
          -2.9547738693467345,
          -2.834170854271358,
          -2.7135678391959797,
          -2.592964824120603,
          -2.4723618090452266,
          -2.35175879396985,
          -2.2311557788944736,
          -2.1105527638190953,
          -1.9899497487437188,
          -1.8693467336683423,
          -1.7487437185929657,
          -1.6281407035175892,
          -1.507537688442211,
          -1.3869346733668344,
          -1.2663316582914579,
          -1.1457286432160814,
          -1.0251256281407048,
          -0.9045226130653266,
          -0.78391959798995,
          -0.6633165829145735,
          -0.542713567839197,
          -0.4221105527638187,
          -0.3015075376884422,
          -0.18090452261306567,
          -0.06030150753768915,
          0.06030150753768737,
          0.18090452261306567,
          0.3015075376884422,
          0.4221105527638187,
          0.5427135678391952,
          0.6633165829145717,
          0.78391959798995,
          0.9045226130653266,
          1.025125628140703,
          1.1457286432160796,
          1.266331658291456,
          1.3869346733668344,
          1.507537688442211,
          1.6281407035175874,
          1.748743718592964,
          1.8693467336683405,
          1.9899497487437188,
          2.1105527638190953,
          2.231155778894472,
          2.3517587939698483,
          2.472361809045225,
          2.592964824120603,
          2.7135678391959797,
          2.834170854271356,
          2.9547738693467327,
          3.075376884422109,
          3.1959798994974875,
          3.316582914572864,
          3.4371859296482405,
          3.557788944723617,
          3.6783919597989936,
          3.798994974874372,
          3.9195979899497484,
          4.040201005025125,
          4.160804020100503,
          4.281407035175878,
          4.402010050251256,
          4.522613065326631,
          4.643216080402009,
          4.763819095477388,
          4.884422110552762,
          5.005025125628141,
          5.125628140703515,
          5.246231155778894,
          5.366834170854272,
          5.487437185929647,
          5.608040201005025,
          5.7286432160804,
          5.849246231155778,
          5.969849246231156,
          6.090452261306531,
          6.211055276381909,
          6.331658291457284,
          6.452261306532662,
          6.572864321608041,
          6.693467336683415,
          6.814070351758794,
          6.9346733668341685,
          7.055276381909547,
          7.175879396984925,
          7.2964824120603,
          7.417085427135678,
          7.537688442211053,
          7.658291457286431,
          7.778894472361809,
          7.899497487437184,
          8.020100502512562,
          8.140703517587937,
          8.261306532663315,
          8.381909547738694,
          8.502512562814069,
          8.623115577889447,
          8.743718592964822,
          8.8643216080402,
          8.984924623115578,
          9.105527638190953,
          9.226130653266331,
          9.346733668341706,
          9.467336683417084,
          9.587939698492463,
          9.708542713567837,
          9.829145728643216,
          9.94974874371859,
          10.070351758793969,
          10.190954773869347,
          10.311557788944722,
          10.4321608040201,
          10.552763819095475,
          10.673366834170853,
          10.793969849246231,
          10.914572864321606,
          11.035175879396984,
          11.155778894472363,
          11.276381909547737,
          11.396984924623116,
          11.51758793969849,
          11.638190954773869,
          11.758793969849247,
          11.879396984924622,
          12
         ],
         "xaxis": "x",
         "y": [
          0.000006144174602214718,
          0.0000069317107298737944,
          0.00000782018935059461,
          0.00000882254855948806,
          0.000009953384706487166,
          0.000011229164916175463,
          0.000012668466839515384,
          0.000014292249125730078,
          0.000016124156549092385,
          0.000018190864228938505,
          0.000020522465949121305,
          0.00002315291222353387,
          0.00002612050447649392,
          0.00002946845252106296,
          0.000033245503436472216,
          0.000037506650980894654,
          0.000042313935842634126,
          0.00004773734834804849,
          0.00005385584672688539,
          0.000060758505706213345,
          0.00006854581208638513,
          0.00007733112607296342,
          0.00008724232952699696,
          0.00009842368498574819,
          0.00011103793233423073,
          0.00012526865341642125,
          0.0001413229387103388,
          0.00015943439450532797,
          0.0001798665338707133,
          0.00020291660015688432,
          0.00022891987789424873,
          0.00025825455283137185,
          0.00029134719056827846,
          0.0003286789118902541,
          0.00037079235259669365,
          0.00041829950646326576,
          0.00047189056209815983,
          0.0005323438579883847,
          0.0006005370951228981,
          0.000677459963376795,
          0.000764228356502334,
          0.0008621003712594348,
          0.0009724943090915715,
          0.0010970089239684714,
          0.0012374461877172082,
          0.001395836874467584,
          0.0015744692988283958,
          0.0017759215781153915,
          0.0020030978273178363,
          0.002259268736356927,
          0.002548117022245207,
          0.002873788293490389,
          0.003240947909724536,
          0.0036548444649597547,
          0.004121380566507397,
          0.004647191621311182,
          0.00523973337437106,
          0.005907378966297629,
          0.0066595262839209265,
          0.007506716362961056,
          0.008460763557012118,
          0.009534898102377615,
          0.010743921571033458,
          0.012104375498685989,
          0.013634723182697104,
          0.015355544242978797,
          0.01728974100115565,
          0.019462755028493085,
          0.02190279130638982,
          0.02464104629636331,
          0.027711934789180954,
          0.03115330865537568,
          0.03500665851654055,
          0.0393172868735528,
          0.04413443835793439,
          0.049511369539610835,
          0.05550533719681136,
          0.06217748026307829,
          0.06959256702775463,
          0.07781857590221743,
          0.0869260756253292,
          0.09698736976312958,
          0.10807537150173661,
          0.12026217890837174,
          0.13361732898717338,
          0.14820572190293488,
          0.16408522542672907,
          0.18130399432052458,
          0.19989756972019745,
          0.21988585836732194,
          0.24127012838455733,
          0.2640301935086808,
          0.2881219864220833,
          0.31347573839873544,
          0.3399949811987929,
          0.3675565633163576,
          0.3960118238626734,
          0.4251889944936088,
          0.45489680790620846,
          0.4849291896357415,
          0.5150708103642581,
          0.5451031920937915,
          0.5748110055063912,
          0.6039881761373265,
          0.632443436683642,
          0.6600050188012067,
          0.6865242616012645,
          0.7118780135779167,
          0.7359698064913188,
          0.7587298716154424,
          0.7801141416326777,
          0.8001024302798024,
          0.8186960056794754,
          0.8359147745732708,
          0.851794278097065,
          0.8663826710128264,
          0.8797378210916283,
          0.8919246284982634,
          0.9030126302368703,
          0.9130739243746706,
          0.9221814240977824,
          0.9304074329722454,
          0.9378225197369218,
          0.9444946628031886,
          0.950488630460389,
          0.9558655616420655,
          0.9606827131264473,
          0.9649933414834595,
          0.9688466913446244,
          0.972288065210819,
          0.9753589537036367,
          0.97809720869361,
          0.980537244971507,
          0.9827102589988445,
          0.9846444557570213,
          0.986365276817303,
          0.9878956245013141,
          0.9892560784289666,
          0.9904651018976223,
          0.9915392364429878,
          0.9924932836370388,
          0.9933404737160791,
          0.9940926210337023,
          0.994760266625629,
          0.9953528083786889,
          0.9958786194334927,
          0.9963451555350403,
          0.9967590520902754,
          0.9971262117065096,
          0.9974518829777547,
          0.997740731263643,
          0.9979969021726822,
          0.9982240784218847,
          0.9984255307011717,
          0.9986041631255325,
          0.9987625538122828,
          0.9989029910760314,
          0.9990275056909085,
          0.9991378996287406,
          0.9992357716434976,
          0.9993225400366232,
          0.999399462904877,
          0.9994676561420116,
          0.9995281094379018,
          0.9995817004935368,
          0.9996292076474034,
          0.9996713210881097,
          0.9997086528094317,
          0.9997417454471685,
          0.9997710801221057,
          0.999797083399843,
          0.9998201334661293,
          0.9998405656054946,
          0.9998586770612896,
          0.9998747313465834,
          0.9998889620676658,
          0.9999015763150142,
          0.999912757670473,
          0.9999226688739271,
          0.9999314541879136,
          0.9999392414942937,
          0.9999461441532731,
          0.9999522626516519,
          0.9999576860641574,
          0.9999624933490191,
          0.9999667544965636,
          0.999970531547479,
          0.9999738794955234,
          0.9999768470877765,
          0.9999794775340509,
          0.9999818091357711,
          0.9999838758434508,
          0.9999857077508743,
          0.9999873315331604,
          0.9999887708350839,
          0.9999900466152934,
          0.9999911774514406,
          0.9999921798106494,
          0.9999930682892701,
          0.9999938558253978
         ],
         "yaxis": "y"
        }
       ],
       "layout": {
        "legend": {
         "tracegroupgap": 0
        },
        "template": {
         "data": {
          "bar": [
           {
            "error_x": {
             "color": "#f2f5fa"
            },
            "error_y": {
             "color": "#f2f5fa"
            },
            "marker": {
             "line": {
              "color": "rgb(17,17,17)",
              "width": 0.5
             },
             "pattern": {
              "fillmode": "overlay",
              "size": 10,
              "solidity": 0.2
             }
            },
            "type": "bar"
           }
          ],
          "barpolar": [
           {
            "marker": {
             "line": {
              "color": "rgb(17,17,17)",
              "width": 0.5
             },
             "pattern": {
              "fillmode": "overlay",
              "size": 10,
              "solidity": 0.2
             }
            },
            "type": "barpolar"
           }
          ],
          "carpet": [
           {
            "aaxis": {
             "endlinecolor": "#A2B1C6",
             "gridcolor": "#506784",
             "linecolor": "#506784",
             "minorgridcolor": "#506784",
             "startlinecolor": "#A2B1C6"
            },
            "baxis": {
             "endlinecolor": "#A2B1C6",
             "gridcolor": "#506784",
             "linecolor": "#506784",
             "minorgridcolor": "#506784",
             "startlinecolor": "#A2B1C6"
            },
            "type": "carpet"
           }
          ],
          "choropleth": [
           {
            "colorbar": {
             "outlinewidth": 0,
             "ticks": ""
            },
            "type": "choropleth"
           }
          ],
          "contour": [
           {
            "colorbar": {
             "outlinewidth": 0,
             "ticks": ""
            },
            "colorscale": [
             [
              0,
              "#0d0887"
             ],
             [
              0.1111111111111111,
              "#46039f"
             ],
             [
              0.2222222222222222,
              "#7201a8"
             ],
             [
              0.3333333333333333,
              "#9c179e"
             ],
             [
              0.4444444444444444,
              "#bd3786"
             ],
             [
              0.5555555555555556,
              "#d8576b"
             ],
             [
              0.6666666666666666,
              "#ed7953"
             ],
             [
              0.7777777777777778,
              "#fb9f3a"
             ],
             [
              0.8888888888888888,
              "#fdca26"
             ],
             [
              1,
              "#f0f921"
             ]
            ],
            "type": "contour"
           }
          ],
          "contourcarpet": [
           {
            "colorbar": {
             "outlinewidth": 0,
             "ticks": ""
            },
            "type": "contourcarpet"
           }
          ],
          "heatmap": [
           {
            "colorbar": {
             "outlinewidth": 0,
             "ticks": ""
            },
            "colorscale": [
             [
              0,
              "#0d0887"
             ],
             [
              0.1111111111111111,
              "#46039f"
             ],
             [
              0.2222222222222222,
              "#7201a8"
             ],
             [
              0.3333333333333333,
              "#9c179e"
             ],
             [
              0.4444444444444444,
              "#bd3786"
             ],
             [
              0.5555555555555556,
              "#d8576b"
             ],
             [
              0.6666666666666666,
              "#ed7953"
             ],
             [
              0.7777777777777778,
              "#fb9f3a"
             ],
             [
              0.8888888888888888,
              "#fdca26"
             ],
             [
              1,
              "#f0f921"
             ]
            ],
            "type": "heatmap"
           }
          ],
          "heatmapgl": [
           {
            "colorbar": {
             "outlinewidth": 0,
             "ticks": ""
            },
            "colorscale": [
             [
              0,
              "#0d0887"
             ],
             [
              0.1111111111111111,
              "#46039f"
             ],
             [
              0.2222222222222222,
              "#7201a8"
             ],
             [
              0.3333333333333333,
              "#9c179e"
             ],
             [
              0.4444444444444444,
              "#bd3786"
             ],
             [
              0.5555555555555556,
              "#d8576b"
             ],
             [
              0.6666666666666666,
              "#ed7953"
             ],
             [
              0.7777777777777778,
              "#fb9f3a"
             ],
             [
              0.8888888888888888,
              "#fdca26"
             ],
             [
              1,
              "#f0f921"
             ]
            ],
            "type": "heatmapgl"
           }
          ],
          "histogram": [
           {
            "marker": {
             "pattern": {
              "fillmode": "overlay",
              "size": 10,
              "solidity": 0.2
             }
            },
            "type": "histogram"
           }
          ],
          "histogram2d": [
           {
            "colorbar": {
             "outlinewidth": 0,
             "ticks": ""
            },
            "colorscale": [
             [
              0,
              "#0d0887"
             ],
             [
              0.1111111111111111,
              "#46039f"
             ],
             [
              0.2222222222222222,
              "#7201a8"
             ],
             [
              0.3333333333333333,
              "#9c179e"
             ],
             [
              0.4444444444444444,
              "#bd3786"
             ],
             [
              0.5555555555555556,
              "#d8576b"
             ],
             [
              0.6666666666666666,
              "#ed7953"
             ],
             [
              0.7777777777777778,
              "#fb9f3a"
             ],
             [
              0.8888888888888888,
              "#fdca26"
             ],
             [
              1,
              "#f0f921"
             ]
            ],
            "type": "histogram2d"
           }
          ],
          "histogram2dcontour": [
           {
            "colorbar": {
             "outlinewidth": 0,
             "ticks": ""
            },
            "colorscale": [
             [
              0,
              "#0d0887"
             ],
             [
              0.1111111111111111,
              "#46039f"
             ],
             [
              0.2222222222222222,
              "#7201a8"
             ],
             [
              0.3333333333333333,
              "#9c179e"
             ],
             [
              0.4444444444444444,
              "#bd3786"
             ],
             [
              0.5555555555555556,
              "#d8576b"
             ],
             [
              0.6666666666666666,
              "#ed7953"
             ],
             [
              0.7777777777777778,
              "#fb9f3a"
             ],
             [
              0.8888888888888888,
              "#fdca26"
             ],
             [
              1,
              "#f0f921"
             ]
            ],
            "type": "histogram2dcontour"
           }
          ],
          "mesh3d": [
           {
            "colorbar": {
             "outlinewidth": 0,
             "ticks": ""
            },
            "type": "mesh3d"
           }
          ],
          "parcoords": [
           {
            "line": {
             "colorbar": {
              "outlinewidth": 0,
              "ticks": ""
             }
            },
            "type": "parcoords"
           }
          ],
          "pie": [
           {
            "automargin": true,
            "type": "pie"
           }
          ],
          "scatter": [
           {
            "marker": {
             "line": {
              "color": "#283442"
             }
            },
            "type": "scatter"
           }
          ],
          "scatter3d": [
           {
            "line": {
             "colorbar": {
              "outlinewidth": 0,
              "ticks": ""
             }
            },
            "marker": {
             "colorbar": {
              "outlinewidth": 0,
              "ticks": ""
             }
            },
            "type": "scatter3d"
           }
          ],
          "scattercarpet": [
           {
            "marker": {
             "colorbar": {
              "outlinewidth": 0,
              "ticks": ""
             }
            },
            "type": "scattercarpet"
           }
          ],
          "scattergeo": [
           {
            "marker": {
             "colorbar": {
              "outlinewidth": 0,
              "ticks": ""
             }
            },
            "type": "scattergeo"
           }
          ],
          "scattergl": [
           {
            "marker": {
             "line": {
              "color": "#283442"
             }
            },
            "type": "scattergl"
           }
          ],
          "scattermapbox": [
           {
            "marker": {
             "colorbar": {
              "outlinewidth": 0,
              "ticks": ""
             }
            },
            "type": "scattermapbox"
           }
          ],
          "scatterpolar": [
           {
            "marker": {
             "colorbar": {
              "outlinewidth": 0,
              "ticks": ""
             }
            },
            "type": "scatterpolar"
           }
          ],
          "scatterpolargl": [
           {
            "marker": {
             "colorbar": {
              "outlinewidth": 0,
              "ticks": ""
             }
            },
            "type": "scatterpolargl"
           }
          ],
          "scatterternary": [
           {
            "marker": {
             "colorbar": {
              "outlinewidth": 0,
              "ticks": ""
             }
            },
            "type": "scatterternary"
           }
          ],
          "surface": [
           {
            "colorbar": {
             "outlinewidth": 0,
             "ticks": ""
            },
            "colorscale": [
             [
              0,
              "#0d0887"
             ],
             [
              0.1111111111111111,
              "#46039f"
             ],
             [
              0.2222222222222222,
              "#7201a8"
             ],
             [
              0.3333333333333333,
              "#9c179e"
             ],
             [
              0.4444444444444444,
              "#bd3786"
             ],
             [
              0.5555555555555556,
              "#d8576b"
             ],
             [
              0.6666666666666666,
              "#ed7953"
             ],
             [
              0.7777777777777778,
              "#fb9f3a"
             ],
             [
              0.8888888888888888,
              "#fdca26"
             ],
             [
              1,
              "#f0f921"
             ]
            ],
            "type": "surface"
           }
          ],
          "table": [
           {
            "cells": {
             "fill": {
              "color": "#506784"
             },
             "line": {
              "color": "rgb(17,17,17)"
             }
            },
            "header": {
             "fill": {
              "color": "#2a3f5f"
             },
             "line": {
              "color": "rgb(17,17,17)"
             }
            },
            "type": "table"
           }
          ]
         },
         "layout": {
          "annotationdefaults": {
           "arrowcolor": "#f2f5fa",
           "arrowhead": 0,
           "arrowwidth": 1
          },
          "autotypenumbers": "strict",
          "coloraxis": {
           "colorbar": {
            "outlinewidth": 0,
            "ticks": ""
           }
          },
          "colorscale": {
           "diverging": [
            [
             0,
             "#8e0152"
            ],
            [
             0.1,
             "#c51b7d"
            ],
            [
             0.2,
             "#de77ae"
            ],
            [
             0.3,
             "#f1b6da"
            ],
            [
             0.4,
             "#fde0ef"
            ],
            [
             0.5,
             "#f7f7f7"
            ],
            [
             0.6,
             "#e6f5d0"
            ],
            [
             0.7,
             "#b8e186"
            ],
            [
             0.8,
             "#7fbc41"
            ],
            [
             0.9,
             "#4d9221"
            ],
            [
             1,
             "#276419"
            ]
           ],
           "sequential": [
            [
             0,
             "#0d0887"
            ],
            [
             0.1111111111111111,
             "#46039f"
            ],
            [
             0.2222222222222222,
             "#7201a8"
            ],
            [
             0.3333333333333333,
             "#9c179e"
            ],
            [
             0.4444444444444444,
             "#bd3786"
            ],
            [
             0.5555555555555556,
             "#d8576b"
            ],
            [
             0.6666666666666666,
             "#ed7953"
            ],
            [
             0.7777777777777778,
             "#fb9f3a"
            ],
            [
             0.8888888888888888,
             "#fdca26"
            ],
            [
             1,
             "#f0f921"
            ]
           ],
           "sequentialminus": [
            [
             0,
             "#0d0887"
            ],
            [
             0.1111111111111111,
             "#46039f"
            ],
            [
             0.2222222222222222,
             "#7201a8"
            ],
            [
             0.3333333333333333,
             "#9c179e"
            ],
            [
             0.4444444444444444,
             "#bd3786"
            ],
            [
             0.5555555555555556,
             "#d8576b"
            ],
            [
             0.6666666666666666,
             "#ed7953"
            ],
            [
             0.7777777777777778,
             "#fb9f3a"
            ],
            [
             0.8888888888888888,
             "#fdca26"
            ],
            [
             1,
             "#f0f921"
            ]
           ]
          },
          "colorway": [
           "#636efa",
           "#EF553B",
           "#00cc96",
           "#ab63fa",
           "#FFA15A",
           "#19d3f3",
           "#FF6692",
           "#B6E880",
           "#FF97FF",
           "#FECB52"
          ],
          "font": {
           "color": "#f2f5fa"
          },
          "geo": {
           "bgcolor": "rgb(17,17,17)",
           "lakecolor": "rgb(17,17,17)",
           "landcolor": "rgb(17,17,17)",
           "showlakes": true,
           "showland": true,
           "subunitcolor": "#506784"
          },
          "hoverlabel": {
           "align": "left"
          },
          "hovermode": "closest",
          "mapbox": {
           "style": "dark"
          },
          "paper_bgcolor": "rgb(17,17,17)",
          "plot_bgcolor": "rgb(17,17,17)",
          "polar": {
           "angularaxis": {
            "gridcolor": "#506784",
            "linecolor": "#506784",
            "ticks": ""
           },
           "bgcolor": "rgb(17,17,17)",
           "radialaxis": {
            "gridcolor": "#506784",
            "linecolor": "#506784",
            "ticks": ""
           }
          },
          "scene": {
           "xaxis": {
            "backgroundcolor": "rgb(17,17,17)",
            "gridcolor": "#506784",
            "gridwidth": 2,
            "linecolor": "#506784",
            "showbackground": true,
            "ticks": "",
            "zerolinecolor": "#C8D4E3"
           },
           "yaxis": {
            "backgroundcolor": "rgb(17,17,17)",
            "gridcolor": "#506784",
            "gridwidth": 2,
            "linecolor": "#506784",
            "showbackground": true,
            "ticks": "",
            "zerolinecolor": "#C8D4E3"
           },
           "zaxis": {
            "backgroundcolor": "rgb(17,17,17)",
            "gridcolor": "#506784",
            "gridwidth": 2,
            "linecolor": "#506784",
            "showbackground": true,
            "ticks": "",
            "zerolinecolor": "#C8D4E3"
           }
          },
          "shapedefaults": {
           "line": {
            "color": "#f2f5fa"
           }
          },
          "sliderdefaults": {
           "bgcolor": "#C8D4E3",
           "bordercolor": "rgb(17,17,17)",
           "borderwidth": 1,
           "tickwidth": 0
          },
          "ternary": {
           "aaxis": {
            "gridcolor": "#506784",
            "linecolor": "#506784",
            "ticks": ""
           },
           "baxis": {
            "gridcolor": "#506784",
            "linecolor": "#506784",
            "ticks": ""
           },
           "bgcolor": "rgb(17,17,17)",
           "caxis": {
            "gridcolor": "#506784",
            "linecolor": "#506784",
            "ticks": ""
           }
          },
          "title": {
           "x": 0.05
          },
          "updatemenudefaults": {
           "bgcolor": "#506784",
           "borderwidth": 0
          },
          "xaxis": {
           "automargin": true,
           "gridcolor": "#283442",
           "linecolor": "#506784",
           "ticks": "",
           "title": {
            "standoff": 15
           },
           "zerolinecolor": "#283442",
           "zerolinewidth": 2
          },
          "yaxis": {
           "automargin": true,
           "gridcolor": "#283442",
           "linecolor": "#506784",
           "ticks": "",
           "title": {
            "standoff": 15
           },
           "zerolinecolor": "#283442",
           "zerolinewidth": 2
          }
         }
        },
        "title": {
         "font": {
          "color": "#00F1FF"
         },
         "text": "Sigmoid Function"
        },
        "xaxis": {
         "anchor": "y",
         "color": "#00F1FF",
         "domain": [
          0,
          1
         ],
         "title": {
          "text": "x"
         }
        },
        "yaxis": {
         "anchor": "x",
         "color": "#00F1FF",
         "domain": [
          0,
          1
         ],
         "title": {
          "text": "y"
         }
        }
       }
      }
     },
     "metadata": {},
     "output_type": "display_data"
    }
   ],
   "source": [
    "z = np.linspace(-12, 12, 200)\n",
    "fig = px.line(x=z, y=sigmoid(z)[0],title='Sigmoid Function',template=\"plotly_dark\")\n",
    "fig.update_layout(\n",
    "    title_font_color=\"#00F1FF\",\n",
    "    xaxis=dict(color=\"#00F1FF\"),\n",
    "    yaxis=dict(color=\"#00F1FF\")\n",
    ")\n",
    "fig.show()\n"
   ]
  },
  {
   "cell_type": "code",
   "execution_count": 69,
   "metadata": {},
   "outputs": [],
   "source": [
    "def sigmoid_backward(dA, cache):\n",
    "    \"\"\"\n",
    "    Implement the backward propagation for a single sigmoid unit.\n",
    "\n",
    "    Arguments:\n",
    "    dA -- post-activation gradient\n",
    "    cache -- 'Z' stored during forward pass\n",
    "\n",
    "    Returns:\n",
    "    dZ -- Gradient of the cost with respect to Z\n",
    "    \"\"\"\n",
    "    Z = cache\n",
    "    s = 1/(1+np.exp(-Z))\n",
    "    dZ = dA * s * (1-s)\n",
    "    return dZ"
   ]
  },
  {
   "cell_type": "code",
   "execution_count": 70,
   "metadata": {},
   "outputs": [],
   "source": [
    "class NeuralNetwork:\n",
    "    def __init__(self, layer_dimensions=[q,16,16,1],learning_rate=0.00001):\n",
    "        \"\"\"\n",
    "        Parameters\n",
    "        ----------\n",
    "\n",
    "        layer_dimensions : list\n",
    "            python array (list) containing the dimensions of each layer in our network\n",
    "\n",
    "        learning_rate :  float\n",
    "            learning rate of the network.\n",
    "\n",
    "        \"\"\"\n",
    "        self.layer_dimensions = layer_dimensions\n",
    "        self.learning_rate = learning_rate\n",
    "\n",
    "\n",
    "    def initialize_parameters(self):\n",
    "        \"\"\"initializes the parameters\"\"\"\n",
    "        np.random.seed(3)\n",
    "        self.n_layers =  len(self.layer_dimensions)\n",
    "        for l in range(1, self.n_layers):\n",
    "            vars(self)[f'W{l}'] = np.random.randn(self.layer_dimensions[l], self.layer_dimensions[l-1]) * 0.01\n",
    "            vars(self)[f'b{l}'] = np.zeros((self.layer_dimensions[l], 1))\n",
    "\n",
    "\n",
    "    def _linear_forward(self, A, W, b):\n",
    "        \"\"\"\n",
    "        Implements the linear part of a layer's forward propagation.\n",
    "\n",
    "        Arguments:\n",
    "        A -- activations from previous layer (size of previous layer, number of examples)\n",
    "        W -- weights matrix: numpy array of shape (size of current layer, size of previous layer)\n",
    "        b -- bias vector, numpy array of shape (size of the current layer, 1)\n",
    "\n",
    "        Returns:\n",
    "        Z -- pre-activation parameter\n",
    "        cache -- a python tuple containing \"A\", \"W\" and \"b\"  for backpropagation\n",
    "        \"\"\"\n",
    "        # Compute Z\n",
    "        Z = np.dot(W,A) + b\n",
    "        # Cache  A, W , b for backpropagation\n",
    "        cache = (A, W, b)\n",
    "        return Z, cache\n",
    "\n",
    "    def _forward_propagation(self,A_prev ,W ,b , activation):\n",
    "        \"\"\"\n",
    "        Implements the forward propagation for a network layer\n",
    "\n",
    "        Arguments:\n",
    "        A_prev -- activations from previous layer, shape : (size of previous layer, number of examples)\n",
    "        W -- shape : (size of current layer, size of previous layer)\n",
    "        b -- shape : (size of the current layer, 1)\n",
    "        activation -- the activation to be used in this layer\n",
    "\n",
    "        Returns:\n",
    "        A -- the output of the activation function\n",
    "        cache -- a python tuple containing \"linear_cache\" and \"activation_cache\" for backpropagation\n",
    "        \"\"\"\n",
    "\n",
    "        # Compute Z using the function defined above, compute A using the activaiton function\n",
    "        if activation == \"sigmoid\":\n",
    "            Z, linear_cache = self._linear_forward(A_prev, W, b)\n",
    "            A, activation_cache = sigmoid(Z)\n",
    "        elif activation == \"relu\":\n",
    "            Z, linear_cache = self._linear_forward(A_prev, W, b)\n",
    "            A, activation_cache = relu(Z)\n",
    "            #Store the cache for backpropagation\n",
    "        cache = (linear_cache, activation_cache)\n",
    "        return A, cache\n",
    "\n",
    "\n",
    "    def forward_propagation(self, X):\n",
    "        \"\"\"\n",
    "        Implements forward propagation for the whole network\n",
    "\n",
    "        Arguments:\n",
    "        X --  shape : (input size, number of examples)\n",
    "\n",
    "        Returns:\n",
    "        AL -- last post-activation value\n",
    "        caches -- list of cache returned by _forward_propagation helper function\n",
    "        \"\"\"\n",
    "        # Initialize empty list to store caches\n",
    "        caches = []\n",
    "        # Set initial A to X\n",
    "        A = X\n",
    "        L =  self.n_layers -1\n",
    "        for l in range(1, L):\n",
    "            A_prev = A\n",
    "            # Forward propagate through the network except the last layer\n",
    "            A, cache = self._forward_propagation(A_prev, vars(self)['W' + str(l)], vars(self)['b' + str(l)], \"relu\")\n",
    "            caches.append(cache)\n",
    "        # Forward propagate through the output layer and get the predictions\n",
    "        predictions, cache = self._forward_propagation(A, vars(self)['W' + str(L)], vars(self)['b' + str(L)], \"sigmoid\")\n",
    "        # Append the cache to caches list recall that cache will be (linear_cache, activation_cache)\n",
    "        caches.append(cache)\n",
    "\n",
    "        return predictions, caches\n",
    "\n",
    "    def compute_cost(self, predictions, y):\n",
    "        \"\"\"\n",
    "        Implements the cost function\n",
    "\n",
    "        Arguments:\n",
    "        predictions -- The model predictions, shape : (1, number of examples)\n",
    "        y -- The true values, shape : (1, number of examples)\n",
    "\n",
    "        Returns:\n",
    "        cost -- cross-entropy cost\n",
    "        \"\"\"\n",
    "        # Get number of training examples\n",
    "        m = y.shape[0]\n",
    "        # Compute cost we're adding small epsilon for numeric stability\n",
    "        cost = (-1/m) * (np.dot(y, np.log(predictions+1e-9).T) + np.dot((1-y), np.log(1-predictions+1e-9).T))\n",
    "        # squeeze the cost to set it into the correct shape\n",
    "        cost = np.squeeze(cost)\n",
    "        return cost\n",
    "\n",
    "    def _linear_backward(self, dZ, cache):\n",
    "        \"\"\"\n",
    "        Implements the linear portion of backward propagation\n",
    "\n",
    "        Arguments:\n",
    "        dZ -- Gradient of the cost with respect to the linear output of the current layer\n",
    "        cache -- tuple of values (A_prev, W, b) coming from the forward propagation in the current layer\n",
    "\n",
    "        Returns:\n",
    "        dA_prev -- Gradient of the cost with respect to the activation (of the previous layer l-1), same shape as A_prev\n",
    "        dW -- Gradient of the cost with respect to W (current layer l), same shape as W\n",
    "        db -- Gradient of the cost with respect to b (current layer l), same shape as b\n",
    "        \"\"\"\n",
    "        # Get the cache from forward propagation\n",
    "        A_prev, W, b = cache\n",
    "        # Get number of training examples\n",
    "        m = A_prev.shape[1]\n",
    "        # Compute gradients for W, b and A\n",
    "        dW = (1/m) * np.dot(dZ, A_prev.T)\n",
    "        db = (1/m) * np.sum(dZ, axis=1, keepdims=True)\n",
    "        dA_prev = np.dot(W.T,dZ)\n",
    "        return dA_prev, dW, db\n",
    "\n",
    "\n",
    "    def _back_propagation(self, dA, cache, activation):\n",
    "        \"\"\"\n",
    "        Implements the backward propagation for a single layer.\n",
    "\n",
    "        Arguments:\n",
    "        dA -- post-activation gradient for current layer l\n",
    "        cache -- tuple of values (linear_cache, activation_cache)\n",
    "        activation -- the activation to be used in this layer\n",
    "\n",
    "        Returns:\n",
    "        dA_prev -- Gradient of the cost with respect to the activation (of the previous layer l-1), same shape as A_prev\n",
    "        dW -- Gradient of the cost with respect to W (current layer l), same shape as W\n",
    "        db -- Gradient of the cost with respect to b (current layer l), same shape as b\n",
    "        \"\"\"\n",
    "        # get the cache from forward propagation and activation derivates function\n",
    "        linear_cache, activation_cache = cache\n",
    "        # compute gradients for Z depending on the activation function\n",
    "        if activation == \"relu\":\n",
    "            dZ = relu_backward(dA, activation_cache)\n",
    "\n",
    "        elif activation == \"sigmoid\":\n",
    "            dZ = sigmoid_backward(dA, activation_cache)\n",
    "        # Compute gradients for W, b and A\n",
    "        dA_prev, dW, db = self._linear_backward(dZ, linear_cache)\n",
    "        return dA_prev, dW, db\n",
    "\n",
    "    def back_propagation(self, predictions, Y, caches):\n",
    "        \"\"\"\n",
    "        Implements the backward propagation for the NeuralNetwork\n",
    "\n",
    "        Arguments:\n",
    "        Prediction --  output of the forward propagation\n",
    "        Y -- true label\n",
    "        caches -- list of caches\n",
    "        \"\"\"\n",
    "        L =  self.n_layers - 1\n",
    "        # Get number of examples\n",
    "        m = predictions.shape[1]\n",
    "        Y = Y.reshape(predictions.shape)\n",
    "        # Initializing the backpropagation we're adding a small epsilon for numeric stability\n",
    "        dAL = - (np.divide(Y, predictions+1e-9) - np.divide(1 - Y, 1 - predictions+1e-9))\n",
    "        current_cache = caches[L-1] # Last Layer\n",
    "        # Compute gradients of the predictions\n",
    "        vars(self)[f'dA{L-1}'], vars(self)[f'dW{L}'], vars(self)[f'db{L}'] = self._back_propagation(dAL, current_cache, \"sigmoid\")\n",
    "        for l in reversed(range(L-1)):\n",
    "            # update the cache\n",
    "            current_cache = caches[l]\n",
    "            # compute gradients of the network layers\n",
    "            vars(self)[f'dA{l}'] , vars(self)[f'dW{l+1}'], vars(self)[f'db{l+1}'] = self._back_propagation(vars(self)[f'dA{l + 1}'], current_cache, activation = \"relu\")\n",
    "\n",
    "\n",
    "\n",
    "    def update_parameters(self):\n",
    "            \"\"\"\n",
    "            Updates parameters using gradient descent\n",
    "            \"\"\"\n",
    "            L = self.n_layers - 1\n",
    "            # Loop over parameters and update them using computed gradients\n",
    "            for l in range(L):\n",
    "                vars(self)[f'W{l+1}'] = vars(self)[f'W{l+1}'] - self.learning_rate * vars(self)[f'dW{l+1}']\n",
    "                vars(self)[f'b{l+1}']  = vars(self)[f'b{l+1}'] - self.learning_rate * vars(self)[f'db{l+1}']\n",
    "\n",
    "\n",
    "    def fit(self,X, Y, epochs=2000, print_cost=True):\n",
    "            \"\"\"\n",
    "            Trains the Neural Network using input data\n",
    "\n",
    "            Arguments:\n",
    "            X -- input data\n",
    "            Y -- true \"label\"\n",
    "            Epochs -- number of iterations of the optimization loop\n",
    "            print_cost -- If set to True, this will print the cost every 100 iterations\n",
    "            \"\"\"\n",
    "            # Transpose X to get the correct shape\n",
    "            X = X.T\n",
    "            np.random.seed(1)\n",
    "            #create empty array to store the costs\n",
    "            costs = []\n",
    "            # Get number of training examples\n",
    "            m = X.shape[1]\n",
    "            # Initialize parameters\n",
    "            self.initialize_parameters()\n",
    "            # loop for stated number of epochs\n",
    "            for i in range(0, epochs):\n",
    "                # Forward propagate and get the predictions and caches\n",
    "                predictions, caches = self.forward_propagation(X)\n",
    "                #compute the cost function\n",
    "                cost = self.compute_cost(predictions, Y)\n",
    "                # Calculate the gradient and update the parameters\n",
    "                self.back_propagation(predictions, Y, caches)\n",
    "\n",
    "                self.update_parameters()\n",
    "\n",
    "\n",
    "                # Print the cost every 10000 training example\n",
    "                if print_cost and i % 5000 == 0:\n",
    "                    print(\"Cost after iteration {}: {}\".format(i, np.squeeze(cost)))\n",
    "                if print_cost and i % 5000 == 0:\n",
    "                    costs.append(cost)\n",
    "            if print_cost:\n",
    "            # Plot the cost over training\n",
    "                fig = px.line(y=np.squeeze(costs),title='Cost',template=\"plotly_dark\")\n",
    "                fig.update_layout(\n",
    "                    title_font_color=\"#00F1FF\",\n",
    "                    xaxis=dict(color=\"#00F1FF\"),\n",
    "                    yaxis=dict(color=\"#00F1FF\")\n",
    "                )\n",
    "                fig.show()\n",
    "\n",
    "\n",
    "    def predict(self,X,y):\n",
    "        \"\"\"\n",
    "        uses the trained model to predict given X value\n",
    "\n",
    "        Arguments:\n",
    "        X -- data set of examples you would like to label\n",
    "        y -- True values of examples; used for measuring the model's accuracy\n",
    "        Returns:\n",
    "        predictions -- predictions for the given dataset X\n",
    "        \"\"\"\n",
    "        X = X.T\n",
    "        # Get predictions from forward propagation\n",
    "        predictions, _ = self.forward_propagation(X)\n",
    "        # Predictions Above 0.5 are True otherwise they are False\n",
    "        predictions = (predictions > 0.5)\n",
    "        # Squeeze the predictions into the correct shape and cast true/false values to 1/0\n",
    "        predictions = np.squeeze(predictions.astype(int))\n",
    "        #Print the accuracy\n",
    "        return np.sum((predictions == y)/X.shape[1]), predictions.T"
   ]
  },
  {
   "cell_type": "code",
   "execution_count": 71,
   "metadata": {},
   "outputs": [],
   "source": [
    "def train_evaluate_model(X_train, y_train, X_test, y_test, learning_rate, layer_dimensions, epochs):\n",
    "    '''\n",
    "    Keyword arguments:\n",
    "    X_train -- Training data\n",
    "    y_train -- Traing labels\n",
    "    X_train -- test data\n",
    "    y_train -- test labels\n",
    "    layer_dimensions -- python array (list) containing the dimensions of each layer in our network\n",
    "    learning_rate --  learning rate of the network.\n",
    "    Epochs -- number of iterations of the optimization loop\n",
    "    returns a dataframe\n",
    "    '''\n",
    "    # create model instance with the given hyperparameters\n",
    "    model = NeuralNetwork(learning_rate=learning_rate,layer_dimensions=layers)\n",
    "    # fit the model\n",
    "    model.fit(X_train, y_train,epochs=epochs,print_cost=False)\n",
    "    accuracy, predictions = model.predict(X_test, y_test) # calculate accuracy and predictions\n",
    "\n",
    "    #create a dataframe to visualize the results\n",
    "    eval_df = pd.DataFrame([[learning_rate, layer_dimensions, epochs, accuracy]], columns=['Learning_Rate', 'Layers', 'Epochs', 'Accuracy'])\n",
    "    return eval_df"
   ]
  },
  {
   "cell_type": "code",
   "execution_count": 72,
   "metadata": {},
   "outputs": [
    {
     "name": "stderr",
     "output_type": "stream",
     "text": [
      "C:\\Users\\nurbi\\AppData\\Roaming\\Python\\Python37\\site-packages\\ipykernel_launcher.py:15: RuntimeWarning:\n",
      "\n",
      "invalid value encountered in less_equal\n",
      "\n",
      "C:\\Users\\nurbi\\AppData\\Roaming\\Python\\Python37\\site-packages\\ipykernel_launcher.py:268: RuntimeWarning:\n",
      "\n",
      "invalid value encountered in greater\n",
      "\n"
     ]
    },
    {
     "data": {
      "text/html": [
       "<style type=\"text/css\">\n",
       "#T_76e71_row0_col0, #T_76e71_row0_col2, #T_76e71_row0_col3 {\n",
       "  background-color: #c2e5d8;\n",
       "  color: #000000;\n",
       "}\n",
       "</style>\n",
       "<table id=\"T_76e71_\">\n",
       "  <thead>\n",
       "    <tr>\n",
       "      <th class=\"blank level0\" >&nbsp;</th>\n",
       "      <th class=\"col_heading level0 col0\" >Learning_Rate</th>\n",
       "      <th class=\"col_heading level0 col1\" >Layers</th>\n",
       "      <th class=\"col_heading level0 col2\" >Epochs</th>\n",
       "      <th class=\"col_heading level0 col3\" >Accuracy</th>\n",
       "    </tr>\n",
       "  </thead>\n",
       "  <tbody>\n",
       "    <tr>\n",
       "      <th id=\"T_76e71_level0_row0\" class=\"row_heading level0 row0\" >Model_1</th>\n",
       "      <td id=\"T_76e71_row0_col0\" class=\"data row0 col0\" >0.001000</td>\n",
       "      <td id=\"T_76e71_row0_col1\" class=\"data row0 col1\" >[17, 100, 100, 100, 1]</td>\n",
       "      <td id=\"T_76e71_row0_col2\" class=\"data row0 col2\" >2000</td>\n",
       "      <td id=\"T_76e71_row0_col3\" class=\"data row0 col3\" >0.157500</td>\n",
       "    </tr>\n",
       "  </tbody>\n",
       "</table>\n"
      ],
      "text/plain": [
       "<pandas.io.formats.style.Styler at 0x1fb97ee7e08>"
      ]
     },
     "execution_count": 72,
     "metadata": {},
     "output_type": "execute_result"
    }
   ],
   "source": [
    "learning_rate = 0.001\n",
    "layers = [q,100, 100, 100,1]\n",
    "epochs = 2000\n",
    "results = train_evaluate_model(X_train, y_train, X_test, y_test, learning_rate=learning_rate, layer_dimensions=layers, epochs=epochs)\n",
    "\n",
    "results.index = ['Model_1']\n",
    "\n",
    "results.style.background_gradient(cmap =sns.cubehelix_palette(start=.5, rot=-.5, as_cmap=True))"
   ]
  },
  {
   "cell_type": "code",
   "execution_count": 73,
   "metadata": {},
   "outputs": [
    {
     "name": "stderr",
     "output_type": "stream",
     "text": [
      "C:\\Users\\nurbi\\AppData\\Roaming\\Python\\Python37\\site-packages\\ipykernel_launcher.py:15: RuntimeWarning:\n",
      "\n",
      "invalid value encountered in less_equal\n",
      "\n",
      "C:\\Users\\nurbi\\AppData\\Roaming\\Python\\Python37\\site-packages\\ipykernel_launcher.py:268: RuntimeWarning:\n",
      "\n",
      "invalid value encountered in greater\n",
      "\n"
     ]
    }
   ],
   "source": [
    "learning_rate = 0.001\n",
    "layers = [q,16,1]\n",
    "epochs = 3000\n",
    "temp_df = train_evaluate_model(X_train, y_train, X_test, y_test, learning_rate=learning_rate, layer_dimensions=layers, epochs=epochs)\n",
    "temp_df.index = ['Model_2']\n",
    "results = results.append(temp_df)\n",
    "\n"
   ]
  },
  {
   "cell_type": "code",
   "execution_count": null,
   "metadata": {},
   "outputs": [],
   "source": [
    "learning_rate = 0.0001\n",
    "layers = [q,16,1]\n",
    "epochs = 3000\n",
    "temp_df = train_evaluate_model(X_train, y_train, X_test, y_test, learning_rate=learning_rate, layer_dimensions=layers, epochs=epochs)\n",
    "temp_df.index = ['Model_3']\n",
    "results = results.append(temp_df)"
   ]
  },
  {
   "cell_type": "code",
   "execution_count": null,
   "metadata": {},
   "outputs": [],
   "source": [
    "results.style.background_gradient(cmap =sns.cubehelix_palette(start=.5, rot=-.5, as_cmap=True))"
   ]
  },
  {
   "cell_type": "code",
   "execution_count": null,
   "metadata": {},
   "outputs": [],
   "source": [
    "learning_rate = 0.0001\n",
    "layers = [q,16,1]\n",
    "epochs = 30000\n",
    "temp_df = train_evaluate_model(X_train, y_train, X_test, y_test, learning_rate=learning_rate, layer_dimensions=layers, epochs=epochs)\n",
    "temp_df.index = ['Model_4']\n",
    "results = results.append(temp_df)"
   ]
  },
  {
   "cell_type": "code",
   "execution_count": null,
   "metadata": {},
   "outputs": [],
   "source": [
    "results.style.background_gradient(cmap =sns.cubehelix_palette(start=.5, rot=-.5, as_cmap=True))"
   ]
  },
  {
   "cell_type": "code",
   "execution_count": null,
   "metadata": {},
   "outputs": [],
   "source": [
    "learning_rate = 0.0001\n",
    "layers = [q, 16,16,1]\n",
    "epochs = 30000\n",
    "temp_df = train_evaluate_model(X_train, y_train, X_test, y_test, learning_rate=learning_rate, layer_dimensions=layers, epochs=epochs)\n",
    "temp_df.index = ['Model_5']\n",
    "results = results.append(temp_df)\n"
   ]
  },
  {
   "cell_type": "code",
   "execution_count": null,
   "metadata": {},
   "outputs": [],
   "source": [
    "results.style.background_gradient(cmap =sns.cubehelix_palette(start=.5, rot=-.5, as_cmap=True))"
   ]
  },
  {
   "cell_type": "code",
   "execution_count": null,
   "metadata": {},
   "outputs": [],
   "source": [
    "learning_rate = 0.0001\n",
    "layers = [q,16,16,16,1]\n",
    "epochs = 30000\n",
    "temp_df = train_evaluate_model(X_train, y_train, X_test, y_test, learning_rate=learning_rate, layer_dimensions=layers, epochs=epochs)\n",
    "temp_df.index = ['Model_6']\n",
    "results = results.append(temp_df)"
   ]
  },
  {
   "cell_type": "code",
   "execution_count": null,
   "metadata": {},
   "outputs": [],
   "source": [
    "results.style.background_gradient(cmap =sns.cubehelix_palette(start=.5, rot=-.5, as_cmap=True))"
   ]
  },
  {
   "cell_type": "code",
   "execution_count": null,
   "metadata": {},
   "outputs": [],
   "source": [
    "learning_rate = 0.0001\n",
    "layers = [q,32,32,1]\n",
    "epochs = 30000\n",
    "temp_df = train_evaluate_model(X_train, y_train, X_test, y_test, learning_rate=learning_rate, layer_dimensions=layers, epochs=epochs)\n",
    "temp_df.index = ['Model_7']\n",
    "results = results.append(temp_df)"
   ]
  },
  {
   "cell_type": "code",
   "execution_count": null,
   "metadata": {},
   "outputs": [],
   "source": [
    "results.style.background_gradient(cmap =sns.cubehelix_palette(start=.5, rot=-.5, as_cmap=True))"
   ]
  },
  {
   "cell_type": "code",
   "execution_count": null,
   "metadata": {},
   "outputs": [],
   "source": [
    "learning_rate = 0.0001\n",
    "layers = [q,128,128,1]\n",
    "epochs = 30000\n",
    "temp_df = train_evaluate_model(X_train, y_train, X_test, y_test, learning_rate=learning_rate, layer_dimensions=layers, epochs=epochs)\n",
    "temp_df.index = ['Model_8']\n",
    "results = results.append(temp_df)"
   ]
  },
  {
   "cell_type": "code",
   "execution_count": null,
   "metadata": {},
   "outputs": [],
   "source": [
    "results.style.background_gradient(cmap =sns.cubehelix_palette(start=.5, rot=-.5, as_cmap=True))"
   ]
  }
 ],
 "metadata": {
  "kernelspec": {
   "display_name": "Python 3",
   "language": "python",
   "name": "python3"
  },
  "language_info": {
   "codemirror_mode": {
    "name": "ipython",
    "version": 3
   },
   "file_extension": ".py",
   "mimetype": "text/x-python",
   "name": "python",
   "nbconvert_exporter": "python",
   "pygments_lexer": "ipython3",
   "version": "3.7.7"
  }
 },
 "nbformat": 4,
 "nbformat_minor": 2
}
